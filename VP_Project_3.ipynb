{
  "nbformat": 4,
  "nbformat_minor": 0,
  "metadata": {
    "colab": {
      "provenance": [],
      "include_colab_link": true
    },
    "kernelspec": {
      "name": "python3",
      "display_name": "Python 3"
    },
    "language_info": {
      "name": "python"
    }
  },
  "cells": [
    {
      "cell_type": "markdown",
      "metadata": {
        "id": "view-in-github",
        "colab_type": "text"
      },
      "source": [
        "<a href=\"https://colab.research.google.com/github/Valerie-Perea/data_science_projects_vp/blob/main/VP_Project_3.ipynb\" target=\"_parent\"><img src=\"https://colab.research.google.com/assets/colab-badge.svg\" alt=\"Open In Colab\"/></a>"
      ]
    },
    {
      "cell_type": "markdown",
      "source": [
        "# Project SQL - Chinook\n"
      ],
      "metadata": {
        "id": "cJG_e1vK2NMI"
      }
    },
    {
      "cell_type": "markdown",
      "source": [
        "## Chinook data set\n",
        "\n",
        "See the lecture on SQLite3 using the Chinook data set to set up the software, database, and tables, as well as for the links to ancillary information about the data set.\n"
      ],
      "metadata": {
        "id": "s6jMcIbW3P5o"
      }
    },
    {
      "cell_type": "code",
      "source": [
        "import sqlite3 as db\n",
        "import pandas as pd\n"
      ],
      "metadata": {
        "id": "D616lJIG9Obe"
      },
      "execution_count": 257,
      "outputs": []
    },
    {
      "cell_type": "code",
      "source": [
        "%%capture\n",
        "%%bash\n",
        "apt-get update\n",
        "apt-get install -y sqlite3\n"
      ],
      "metadata": {
        "id": "LtPu5M_T9Qop"
      },
      "execution_count": 258,
      "outputs": []
    },
    {
      "cell_type": "code",
      "source": [
        "%%bash\n",
        "[ -f chinook.zip ] ||\n",
        "  curl -s -O https://www.sqlitetutorial.net/wp-content/uploads/2018/03/chinook.zip\n",
        "unzip -l chinook.zip\n"
      ],
      "metadata": {
        "colab": {
          "base_uri": "https://localhost:8080/"
        },
        "id": "h0lHk5fl9SQk",
        "outputId": "dec509cc-a42b-4bdb-d9b9-e7ee5ee6ab37"
      },
      "execution_count": 259,
      "outputs": [
        {
          "output_type": "stream",
          "name": "stdout",
          "text": [
            "Archive:  chinook.zip\n",
            "  Length      Date    Time    Name\n",
            "---------  ---------- -----   ----\n",
            "   884736  2015-11-29 10:53   chinook.db\n",
            "---------                     -------\n",
            "   884736                     1 file\n"
          ]
        }
      ]
    },
    {
      "cell_type": "code",
      "source": [
        "!rm -f chinook.db"
      ],
      "metadata": {
        "id": "hdL3fkqw9bmr"
      },
      "execution_count": 260,
      "outputs": []
    },
    {
      "cell_type": "code",
      "source": [
        "!unzip -u chinook.zip"
      ],
      "metadata": {
        "colab": {
          "base_uri": "https://localhost:8080/"
        },
        "id": "R2jrCwwV9dGB",
        "outputId": "806237db-88df-4af3-f26f-c102c9444bd8"
      },
      "execution_count": 261,
      "outputs": [
        {
          "output_type": "stream",
          "name": "stdout",
          "text": [
            "Archive:  chinook.zip\n",
            "  inflating: chinook.db              \n"
          ]
        }
      ]
    },
    {
      "cell_type": "code",
      "source": [
        "!ls -la"
      ],
      "metadata": {
        "colab": {
          "base_uri": "https://localhost:8080/"
        },
        "id": "WWwrg6fx9iJ-",
        "outputId": "bfe8940c-148a-4964-fff8-d6dac9009563"
      },
      "execution_count": 262,
      "outputs": [
        {
          "output_type": "stream",
          "name": "stdout",
          "text": [
            "total 1180\n",
            "drwxr-xr-x 1 root root   4096 Apr  4 17:21 .\n",
            "drwxr-xr-x 1 root root   4096 Apr  4 13:04 ..\n",
            "-rw-r--r-- 1 root root 884736 Nov 29  2015 chinook.db\n",
            "-rw-r--r-- 1 root root 305596 Apr  4 13:20 chinook.zip\n",
            "drwxr-xr-x 4 root root   4096 Apr  2 13:35 .config\n",
            "drwxr-xr-x 1 root root   4096 Apr  2 13:35 sample_data\n",
            "-rw-r--r-- 1 root root      0 Apr  4 14:16 your_database.db\n"
          ]
        }
      ]
    },
    {
      "cell_type": "code",
      "source": [
        "# Connect to a sqlite database and load a result set into a data frame\n",
        "db_con = db.connect(\"chinook.db\")\n"
      ],
      "metadata": {
        "id": "XyZMTdwv9jPv"
      },
      "execution_count": 263,
      "outputs": []
    },
    {
      "cell_type": "code",
      "source": [
        "# Select the first 10 entries from the employees table\n",
        "query = '''\n",
        "  select *\n",
        "  from employees\n",
        "  limit 10\n",
        "'''\n",
        "\n",
        "employees = pd.read_sql_query( query , db_con)\n",
        "employees"
      ],
      "metadata": {
        "colab": {
          "base_uri": "https://localhost:8080/",
          "height": 578
        },
        "id": "a0CLm33u9oKS",
        "outputId": "328b1b7f-56a6-466c-bf19-440f58d20d18"
      },
      "execution_count": 264,
      "outputs": [
        {
          "output_type": "execute_result",
          "data": {
            "text/plain": [
              "   EmployeeId  LastName FirstName                Title  ReportsTo  \\\n",
              "0           1     Adams    Andrew      General Manager        NaN   \n",
              "1           2   Edwards     Nancy        Sales Manager        1.0   \n",
              "2           3   Peacock      Jane  Sales Support Agent        2.0   \n",
              "3           4      Park  Margaret  Sales Support Agent        2.0   \n",
              "4           5   Johnson     Steve  Sales Support Agent        2.0   \n",
              "5           6  Mitchell   Michael           IT Manager        1.0   \n",
              "6           7      King    Robert             IT Staff        6.0   \n",
              "7           8  Callahan     Laura             IT Staff        6.0   \n",
              "\n",
              "             BirthDate             HireDate                      Address  \\\n",
              "0  1962-02-18 00:00:00  2002-08-14 00:00:00          11120 Jasper Ave NW   \n",
              "1  1958-12-08 00:00:00  2002-05-01 00:00:00                 825 8 Ave SW   \n",
              "2  1973-08-29 00:00:00  2002-04-01 00:00:00                1111 6 Ave SW   \n",
              "3  1947-09-19 00:00:00  2003-05-03 00:00:00             683 10 Street SW   \n",
              "4  1965-03-03 00:00:00  2003-10-17 00:00:00                 7727B 41 Ave   \n",
              "5  1973-07-01 00:00:00  2003-10-17 00:00:00         5827 Bowness Road NW   \n",
              "6  1970-05-29 00:00:00  2004-01-02 00:00:00  590 Columbia Boulevard West   \n",
              "7  1968-01-09 00:00:00  2004-03-04 00:00:00                  923 7 ST NW   \n",
              "\n",
              "         City State Country PostalCode              Phone                Fax  \\\n",
              "0    Edmonton    AB  Canada    T5K 2N1  +1 (780) 428-9482  +1 (780) 428-3457   \n",
              "1     Calgary    AB  Canada    T2P 2T3  +1 (403) 262-3443  +1 (403) 262-3322   \n",
              "2     Calgary    AB  Canada    T2P 5M5  +1 (403) 262-3443  +1 (403) 262-6712   \n",
              "3     Calgary    AB  Canada    T2P 5G3  +1 (403) 263-4423  +1 (403) 263-4289   \n",
              "4     Calgary    AB  Canada    T3B 1Y7   1 (780) 836-9987   1 (780) 836-9543   \n",
              "5     Calgary    AB  Canada    T3B 0C5  +1 (403) 246-9887  +1 (403) 246-9899   \n",
              "6  Lethbridge    AB  Canada    T1K 5N8  +1 (403) 456-9986  +1 (403) 456-8485   \n",
              "7  Lethbridge    AB  Canada    T1H 1Y8  +1 (403) 467-3351  +1 (403) 467-8772   \n",
              "\n",
              "                      Email  \n",
              "0    andrew@chinookcorp.com  \n",
              "1     nancy@chinookcorp.com  \n",
              "2      jane@chinookcorp.com  \n",
              "3  margaret@chinookcorp.com  \n",
              "4     steve@chinookcorp.com  \n",
              "5   michael@chinookcorp.com  \n",
              "6    robert@chinookcorp.com  \n",
              "7     laura@chinookcorp.com  "
            ],
            "text/html": [
              "\n",
              "  <div id=\"df-1566f4fe-d6a8-47c9-9b55-d8909d009d81\" class=\"colab-df-container\">\n",
              "    <div>\n",
              "<style scoped>\n",
              "    .dataframe tbody tr th:only-of-type {\n",
              "        vertical-align: middle;\n",
              "    }\n",
              "\n",
              "    .dataframe tbody tr th {\n",
              "        vertical-align: top;\n",
              "    }\n",
              "\n",
              "    .dataframe thead th {\n",
              "        text-align: right;\n",
              "    }\n",
              "</style>\n",
              "<table border=\"1\" class=\"dataframe\">\n",
              "  <thead>\n",
              "    <tr style=\"text-align: right;\">\n",
              "      <th></th>\n",
              "      <th>EmployeeId</th>\n",
              "      <th>LastName</th>\n",
              "      <th>FirstName</th>\n",
              "      <th>Title</th>\n",
              "      <th>ReportsTo</th>\n",
              "      <th>BirthDate</th>\n",
              "      <th>HireDate</th>\n",
              "      <th>Address</th>\n",
              "      <th>City</th>\n",
              "      <th>State</th>\n",
              "      <th>Country</th>\n",
              "      <th>PostalCode</th>\n",
              "      <th>Phone</th>\n",
              "      <th>Fax</th>\n",
              "      <th>Email</th>\n",
              "    </tr>\n",
              "  </thead>\n",
              "  <tbody>\n",
              "    <tr>\n",
              "      <th>0</th>\n",
              "      <td>1</td>\n",
              "      <td>Adams</td>\n",
              "      <td>Andrew</td>\n",
              "      <td>General Manager</td>\n",
              "      <td>NaN</td>\n",
              "      <td>1962-02-18 00:00:00</td>\n",
              "      <td>2002-08-14 00:00:00</td>\n",
              "      <td>11120 Jasper Ave NW</td>\n",
              "      <td>Edmonton</td>\n",
              "      <td>AB</td>\n",
              "      <td>Canada</td>\n",
              "      <td>T5K 2N1</td>\n",
              "      <td>+1 (780) 428-9482</td>\n",
              "      <td>+1 (780) 428-3457</td>\n",
              "      <td>andrew@chinookcorp.com</td>\n",
              "    </tr>\n",
              "    <tr>\n",
              "      <th>1</th>\n",
              "      <td>2</td>\n",
              "      <td>Edwards</td>\n",
              "      <td>Nancy</td>\n",
              "      <td>Sales Manager</td>\n",
              "      <td>1.0</td>\n",
              "      <td>1958-12-08 00:00:00</td>\n",
              "      <td>2002-05-01 00:00:00</td>\n",
              "      <td>825 8 Ave SW</td>\n",
              "      <td>Calgary</td>\n",
              "      <td>AB</td>\n",
              "      <td>Canada</td>\n",
              "      <td>T2P 2T3</td>\n",
              "      <td>+1 (403) 262-3443</td>\n",
              "      <td>+1 (403) 262-3322</td>\n",
              "      <td>nancy@chinookcorp.com</td>\n",
              "    </tr>\n",
              "    <tr>\n",
              "      <th>2</th>\n",
              "      <td>3</td>\n",
              "      <td>Peacock</td>\n",
              "      <td>Jane</td>\n",
              "      <td>Sales Support Agent</td>\n",
              "      <td>2.0</td>\n",
              "      <td>1973-08-29 00:00:00</td>\n",
              "      <td>2002-04-01 00:00:00</td>\n",
              "      <td>1111 6 Ave SW</td>\n",
              "      <td>Calgary</td>\n",
              "      <td>AB</td>\n",
              "      <td>Canada</td>\n",
              "      <td>T2P 5M5</td>\n",
              "      <td>+1 (403) 262-3443</td>\n",
              "      <td>+1 (403) 262-6712</td>\n",
              "      <td>jane@chinookcorp.com</td>\n",
              "    </tr>\n",
              "    <tr>\n",
              "      <th>3</th>\n",
              "      <td>4</td>\n",
              "      <td>Park</td>\n",
              "      <td>Margaret</td>\n",
              "      <td>Sales Support Agent</td>\n",
              "      <td>2.0</td>\n",
              "      <td>1947-09-19 00:00:00</td>\n",
              "      <td>2003-05-03 00:00:00</td>\n",
              "      <td>683 10 Street SW</td>\n",
              "      <td>Calgary</td>\n",
              "      <td>AB</td>\n",
              "      <td>Canada</td>\n",
              "      <td>T2P 5G3</td>\n",
              "      <td>+1 (403) 263-4423</td>\n",
              "      <td>+1 (403) 263-4289</td>\n",
              "      <td>margaret@chinookcorp.com</td>\n",
              "    </tr>\n",
              "    <tr>\n",
              "      <th>4</th>\n",
              "      <td>5</td>\n",
              "      <td>Johnson</td>\n",
              "      <td>Steve</td>\n",
              "      <td>Sales Support Agent</td>\n",
              "      <td>2.0</td>\n",
              "      <td>1965-03-03 00:00:00</td>\n",
              "      <td>2003-10-17 00:00:00</td>\n",
              "      <td>7727B 41 Ave</td>\n",
              "      <td>Calgary</td>\n",
              "      <td>AB</td>\n",
              "      <td>Canada</td>\n",
              "      <td>T3B 1Y7</td>\n",
              "      <td>1 (780) 836-9987</td>\n",
              "      <td>1 (780) 836-9543</td>\n",
              "      <td>steve@chinookcorp.com</td>\n",
              "    </tr>\n",
              "    <tr>\n",
              "      <th>5</th>\n",
              "      <td>6</td>\n",
              "      <td>Mitchell</td>\n",
              "      <td>Michael</td>\n",
              "      <td>IT Manager</td>\n",
              "      <td>1.0</td>\n",
              "      <td>1973-07-01 00:00:00</td>\n",
              "      <td>2003-10-17 00:00:00</td>\n",
              "      <td>5827 Bowness Road NW</td>\n",
              "      <td>Calgary</td>\n",
              "      <td>AB</td>\n",
              "      <td>Canada</td>\n",
              "      <td>T3B 0C5</td>\n",
              "      <td>+1 (403) 246-9887</td>\n",
              "      <td>+1 (403) 246-9899</td>\n",
              "      <td>michael@chinookcorp.com</td>\n",
              "    </tr>\n",
              "    <tr>\n",
              "      <th>6</th>\n",
              "      <td>7</td>\n",
              "      <td>King</td>\n",
              "      <td>Robert</td>\n",
              "      <td>IT Staff</td>\n",
              "      <td>6.0</td>\n",
              "      <td>1970-05-29 00:00:00</td>\n",
              "      <td>2004-01-02 00:00:00</td>\n",
              "      <td>590 Columbia Boulevard West</td>\n",
              "      <td>Lethbridge</td>\n",
              "      <td>AB</td>\n",
              "      <td>Canada</td>\n",
              "      <td>T1K 5N8</td>\n",
              "      <td>+1 (403) 456-9986</td>\n",
              "      <td>+1 (403) 456-8485</td>\n",
              "      <td>robert@chinookcorp.com</td>\n",
              "    </tr>\n",
              "    <tr>\n",
              "      <th>7</th>\n",
              "      <td>8</td>\n",
              "      <td>Callahan</td>\n",
              "      <td>Laura</td>\n",
              "      <td>IT Staff</td>\n",
              "      <td>6.0</td>\n",
              "      <td>1968-01-09 00:00:00</td>\n",
              "      <td>2004-03-04 00:00:00</td>\n",
              "      <td>923 7 ST NW</td>\n",
              "      <td>Lethbridge</td>\n",
              "      <td>AB</td>\n",
              "      <td>Canada</td>\n",
              "      <td>T1H 1Y8</td>\n",
              "      <td>+1 (403) 467-3351</td>\n",
              "      <td>+1 (403) 467-8772</td>\n",
              "      <td>laura@chinookcorp.com</td>\n",
              "    </tr>\n",
              "  </tbody>\n",
              "</table>\n",
              "</div>\n",
              "    <div class=\"colab-df-buttons\">\n",
              "\n",
              "  <div class=\"colab-df-container\">\n",
              "    <button class=\"colab-df-convert\" onclick=\"convertToInteractive('df-1566f4fe-d6a8-47c9-9b55-d8909d009d81')\"\n",
              "            title=\"Convert this dataframe to an interactive table.\"\n",
              "            style=\"display:none;\">\n",
              "\n",
              "  <svg xmlns=\"http://www.w3.org/2000/svg\" height=\"24px\" viewBox=\"0 -960 960 960\">\n",
              "    <path d=\"M120-120v-720h720v720H120Zm60-500h600v-160H180v160Zm220 220h160v-160H400v160Zm0 220h160v-160H400v160ZM180-400h160v-160H180v160Zm440 0h160v-160H620v160ZM180-180h160v-160H180v160Zm440 0h160v-160H620v160Z\"/>\n",
              "  </svg>\n",
              "    </button>\n",
              "\n",
              "  <style>\n",
              "    .colab-df-container {\n",
              "      display:flex;\n",
              "      gap: 12px;\n",
              "    }\n",
              "\n",
              "    .colab-df-convert {\n",
              "      background-color: #E8F0FE;\n",
              "      border: none;\n",
              "      border-radius: 50%;\n",
              "      cursor: pointer;\n",
              "      display: none;\n",
              "      fill: #1967D2;\n",
              "      height: 32px;\n",
              "      padding: 0 0 0 0;\n",
              "      width: 32px;\n",
              "    }\n",
              "\n",
              "    .colab-df-convert:hover {\n",
              "      background-color: #E2EBFA;\n",
              "      box-shadow: 0px 1px 2px rgba(60, 64, 67, 0.3), 0px 1px 3px 1px rgba(60, 64, 67, 0.15);\n",
              "      fill: #174EA6;\n",
              "    }\n",
              "\n",
              "    .colab-df-buttons div {\n",
              "      margin-bottom: 4px;\n",
              "    }\n",
              "\n",
              "    [theme=dark] .colab-df-convert {\n",
              "      background-color: #3B4455;\n",
              "      fill: #D2E3FC;\n",
              "    }\n",
              "\n",
              "    [theme=dark] .colab-df-convert:hover {\n",
              "      background-color: #434B5C;\n",
              "      box-shadow: 0px 1px 3px 1px rgba(0, 0, 0, 0.15);\n",
              "      filter: drop-shadow(0px 1px 2px rgba(0, 0, 0, 0.3));\n",
              "      fill: #FFFFFF;\n",
              "    }\n",
              "  </style>\n",
              "\n",
              "    <script>\n",
              "      const buttonEl =\n",
              "        document.querySelector('#df-1566f4fe-d6a8-47c9-9b55-d8909d009d81 button.colab-df-convert');\n",
              "      buttonEl.style.display =\n",
              "        google.colab.kernel.accessAllowed ? 'block' : 'none';\n",
              "\n",
              "      async function convertToInteractive(key) {\n",
              "        const element = document.querySelector('#df-1566f4fe-d6a8-47c9-9b55-d8909d009d81');\n",
              "        const dataTable =\n",
              "          await google.colab.kernel.invokeFunction('convertToInteractive',\n",
              "                                                    [key], {});\n",
              "        if (!dataTable) return;\n",
              "\n",
              "        const docLinkHtml = 'Like what you see? Visit the ' +\n",
              "          '<a target=\"_blank\" href=https://colab.research.google.com/notebooks/data_table.ipynb>data table notebook</a>'\n",
              "          + ' to learn more about interactive tables.';\n",
              "        element.innerHTML = '';\n",
              "        dataTable['output_type'] = 'display_data';\n",
              "        await google.colab.output.renderOutput(dataTable, element);\n",
              "        const docLink = document.createElement('div');\n",
              "        docLink.innerHTML = docLinkHtml;\n",
              "        element.appendChild(docLink);\n",
              "      }\n",
              "    </script>\n",
              "  </div>\n",
              "\n",
              "\n",
              "<div id=\"df-e880cc7d-c74a-4f68-a3e2-9419b7fa7e32\">\n",
              "  <button class=\"colab-df-quickchart\" onclick=\"quickchart('df-e880cc7d-c74a-4f68-a3e2-9419b7fa7e32')\"\n",
              "            title=\"Suggest charts\"\n",
              "            style=\"display:none;\">\n",
              "\n",
              "<svg xmlns=\"http://www.w3.org/2000/svg\" height=\"24px\"viewBox=\"0 0 24 24\"\n",
              "     width=\"24px\">\n",
              "    <g>\n",
              "        <path d=\"M19 3H5c-1.1 0-2 .9-2 2v14c0 1.1.9 2 2 2h14c1.1 0 2-.9 2-2V5c0-1.1-.9-2-2-2zM9 17H7v-7h2v7zm4 0h-2V7h2v10zm4 0h-2v-4h2v4z\"/>\n",
              "    </g>\n",
              "</svg>\n",
              "  </button>\n",
              "\n",
              "<style>\n",
              "  .colab-df-quickchart {\n",
              "      --bg-color: #E8F0FE;\n",
              "      --fill-color: #1967D2;\n",
              "      --hover-bg-color: #E2EBFA;\n",
              "      --hover-fill-color: #174EA6;\n",
              "      --disabled-fill-color: #AAA;\n",
              "      --disabled-bg-color: #DDD;\n",
              "  }\n",
              "\n",
              "  [theme=dark] .colab-df-quickchart {\n",
              "      --bg-color: #3B4455;\n",
              "      --fill-color: #D2E3FC;\n",
              "      --hover-bg-color: #434B5C;\n",
              "      --hover-fill-color: #FFFFFF;\n",
              "      --disabled-bg-color: #3B4455;\n",
              "      --disabled-fill-color: #666;\n",
              "  }\n",
              "\n",
              "  .colab-df-quickchart {\n",
              "    background-color: var(--bg-color);\n",
              "    border: none;\n",
              "    border-radius: 50%;\n",
              "    cursor: pointer;\n",
              "    display: none;\n",
              "    fill: var(--fill-color);\n",
              "    height: 32px;\n",
              "    padding: 0;\n",
              "    width: 32px;\n",
              "  }\n",
              "\n",
              "  .colab-df-quickchart:hover {\n",
              "    background-color: var(--hover-bg-color);\n",
              "    box-shadow: 0 1px 2px rgba(60, 64, 67, 0.3), 0 1px 3px 1px rgba(60, 64, 67, 0.15);\n",
              "    fill: var(--button-hover-fill-color);\n",
              "  }\n",
              "\n",
              "  .colab-df-quickchart-complete:disabled,\n",
              "  .colab-df-quickchart-complete:disabled:hover {\n",
              "    background-color: var(--disabled-bg-color);\n",
              "    fill: var(--disabled-fill-color);\n",
              "    box-shadow: none;\n",
              "  }\n",
              "\n",
              "  .colab-df-spinner {\n",
              "    border: 2px solid var(--fill-color);\n",
              "    border-color: transparent;\n",
              "    border-bottom-color: var(--fill-color);\n",
              "    animation:\n",
              "      spin 1s steps(1) infinite;\n",
              "  }\n",
              "\n",
              "  @keyframes spin {\n",
              "    0% {\n",
              "      border-color: transparent;\n",
              "      border-bottom-color: var(--fill-color);\n",
              "      border-left-color: var(--fill-color);\n",
              "    }\n",
              "    20% {\n",
              "      border-color: transparent;\n",
              "      border-left-color: var(--fill-color);\n",
              "      border-top-color: var(--fill-color);\n",
              "    }\n",
              "    30% {\n",
              "      border-color: transparent;\n",
              "      border-left-color: var(--fill-color);\n",
              "      border-top-color: var(--fill-color);\n",
              "      border-right-color: var(--fill-color);\n",
              "    }\n",
              "    40% {\n",
              "      border-color: transparent;\n",
              "      border-right-color: var(--fill-color);\n",
              "      border-top-color: var(--fill-color);\n",
              "    }\n",
              "    60% {\n",
              "      border-color: transparent;\n",
              "      border-right-color: var(--fill-color);\n",
              "    }\n",
              "    80% {\n",
              "      border-color: transparent;\n",
              "      border-right-color: var(--fill-color);\n",
              "      border-bottom-color: var(--fill-color);\n",
              "    }\n",
              "    90% {\n",
              "      border-color: transparent;\n",
              "      border-bottom-color: var(--fill-color);\n",
              "    }\n",
              "  }\n",
              "</style>\n",
              "\n",
              "  <script>\n",
              "    async function quickchart(key) {\n",
              "      const quickchartButtonEl =\n",
              "        document.querySelector('#' + key + ' button');\n",
              "      quickchartButtonEl.disabled = true;  // To prevent multiple clicks.\n",
              "      quickchartButtonEl.classList.add('colab-df-spinner');\n",
              "      try {\n",
              "        const charts = await google.colab.kernel.invokeFunction(\n",
              "            'suggestCharts', [key], {});\n",
              "      } catch (error) {\n",
              "        console.error('Error during call to suggestCharts:', error);\n",
              "      }\n",
              "      quickchartButtonEl.classList.remove('colab-df-spinner');\n",
              "      quickchartButtonEl.classList.add('colab-df-quickchart-complete');\n",
              "    }\n",
              "    (() => {\n",
              "      let quickchartButtonEl =\n",
              "        document.querySelector('#df-e880cc7d-c74a-4f68-a3e2-9419b7fa7e32 button');\n",
              "      quickchartButtonEl.style.display =\n",
              "        google.colab.kernel.accessAllowed ? 'block' : 'none';\n",
              "    })();\n",
              "  </script>\n",
              "</div>\n",
              "\n",
              "  <div id=\"id_8d67fc99-6fc1-4aa1-b81e-a821037a9e51\">\n",
              "    <style>\n",
              "      .colab-df-generate {\n",
              "        background-color: #E8F0FE;\n",
              "        border: none;\n",
              "        border-radius: 50%;\n",
              "        cursor: pointer;\n",
              "        display: none;\n",
              "        fill: #1967D2;\n",
              "        height: 32px;\n",
              "        padding: 0 0 0 0;\n",
              "        width: 32px;\n",
              "      }\n",
              "\n",
              "      .colab-df-generate:hover {\n",
              "        background-color: #E2EBFA;\n",
              "        box-shadow: 0px 1px 2px rgba(60, 64, 67, 0.3), 0px 1px 3px 1px rgba(60, 64, 67, 0.15);\n",
              "        fill: #174EA6;\n",
              "      }\n",
              "\n",
              "      [theme=dark] .colab-df-generate {\n",
              "        background-color: #3B4455;\n",
              "        fill: #D2E3FC;\n",
              "      }\n",
              "\n",
              "      [theme=dark] .colab-df-generate:hover {\n",
              "        background-color: #434B5C;\n",
              "        box-shadow: 0px 1px 3px 1px rgba(0, 0, 0, 0.15);\n",
              "        filter: drop-shadow(0px 1px 2px rgba(0, 0, 0, 0.3));\n",
              "        fill: #FFFFFF;\n",
              "      }\n",
              "    </style>\n",
              "    <button class=\"colab-df-generate\" onclick=\"generateWithVariable('employees')\"\n",
              "            title=\"Generate code using this dataframe.\"\n",
              "            style=\"display:none;\">\n",
              "\n",
              "  <svg xmlns=\"http://www.w3.org/2000/svg\" height=\"24px\"viewBox=\"0 0 24 24\"\n",
              "       width=\"24px\">\n",
              "    <path d=\"M7,19H8.4L18.45,9,17,7.55,7,17.6ZM5,21V16.75L18.45,3.32a2,2,0,0,1,2.83,0l1.4,1.43a1.91,1.91,0,0,1,.58,1.4,1.91,1.91,0,0,1-.58,1.4L9.25,21ZM18.45,9,17,7.55Zm-12,3A5.31,5.31,0,0,0,4.9,8.1,5.31,5.31,0,0,0,1,6.5,5.31,5.31,0,0,0,4.9,4.9,5.31,5.31,0,0,0,6.5,1,5.31,5.31,0,0,0,8.1,4.9,5.31,5.31,0,0,0,12,6.5,5.46,5.46,0,0,0,6.5,12Z\"/>\n",
              "  </svg>\n",
              "    </button>\n",
              "    <script>\n",
              "      (() => {\n",
              "      const buttonEl =\n",
              "        document.querySelector('#id_8d67fc99-6fc1-4aa1-b81e-a821037a9e51 button.colab-df-generate');\n",
              "      buttonEl.style.display =\n",
              "        google.colab.kernel.accessAllowed ? 'block' : 'none';\n",
              "\n",
              "      buttonEl.onclick = () => {\n",
              "        google.colab.notebook.generateWithVariable('employees');\n",
              "      }\n",
              "      })();\n",
              "    </script>\n",
              "  </div>\n",
              "\n",
              "    </div>\n",
              "  </div>\n"
            ],
            "application/vnd.google.colaboratory.intrinsic+json": {
              "type": "dataframe",
              "variable_name": "employees",
              "summary": "{\n  \"name\": \"employees\",\n  \"rows\": 8,\n  \"fields\": [\n    {\n      \"column\": \"EmployeeId\",\n      \"properties\": {\n        \"dtype\": \"number\",\n        \"std\": 2,\n        \"min\": 1,\n        \"max\": 8,\n        \"num_unique_values\": 8,\n        \"samples\": [\n          2,\n          6,\n          1\n        ],\n        \"semantic_type\": \"\",\n        \"description\": \"\"\n      }\n    },\n    {\n      \"column\": \"LastName\",\n      \"properties\": {\n        \"dtype\": \"string\",\n        \"num_unique_values\": 8,\n        \"samples\": [\n          \"Edwards\",\n          \"Mitchell\",\n          \"Adams\"\n        ],\n        \"semantic_type\": \"\",\n        \"description\": \"\"\n      }\n    },\n    {\n      \"column\": \"FirstName\",\n      \"properties\": {\n        \"dtype\": \"string\",\n        \"num_unique_values\": 8,\n        \"samples\": [\n          \"Nancy\",\n          \"Michael\",\n          \"Andrew\"\n        ],\n        \"semantic_type\": \"\",\n        \"description\": \"\"\n      }\n    },\n    {\n      \"column\": \"Title\",\n      \"properties\": {\n        \"dtype\": \"string\",\n        \"num_unique_values\": 5,\n        \"samples\": [\n          \"Sales Manager\",\n          \"IT Staff\",\n          \"Sales Support Agent\"\n        ],\n        \"semantic_type\": \"\",\n        \"description\": \"\"\n      }\n    },\n    {\n      \"column\": \"ReportsTo\",\n      \"properties\": {\n        \"dtype\": \"number\",\n        \"std\": 2.193062655175134,\n        \"min\": 1.0,\n        \"max\": 6.0,\n        \"num_unique_values\": 3,\n        \"samples\": [\n          1.0,\n          2.0,\n          6.0\n        ],\n        \"semantic_type\": \"\",\n        \"description\": \"\"\n      }\n    },\n    {\n      \"column\": \"BirthDate\",\n      \"properties\": {\n        \"dtype\": \"object\",\n        \"num_unique_values\": 8,\n        \"samples\": [\n          \"1958-12-08 00:00:00\",\n          \"1973-07-01 00:00:00\",\n          \"1962-02-18 00:00:00\"\n        ],\n        \"semantic_type\": \"\",\n        \"description\": \"\"\n      }\n    },\n    {\n      \"column\": \"HireDate\",\n      \"properties\": {\n        \"dtype\": \"object\",\n        \"num_unique_values\": 7,\n        \"samples\": [\n          \"2002-08-14 00:00:00\",\n          \"2002-05-01 00:00:00\",\n          \"2004-01-02 00:00:00\"\n        ],\n        \"semantic_type\": \"\",\n        \"description\": \"\"\n      }\n    },\n    {\n      \"column\": \"Address\",\n      \"properties\": {\n        \"dtype\": \"string\",\n        \"num_unique_values\": 8,\n        \"samples\": [\n          \"825 8 Ave SW\",\n          \"5827 Bowness Road NW\",\n          \"11120 Jasper Ave NW\"\n        ],\n        \"semantic_type\": \"\",\n        \"description\": \"\"\n      }\n    },\n    {\n      \"column\": \"City\",\n      \"properties\": {\n        \"dtype\": \"category\",\n        \"num_unique_values\": 3,\n        \"samples\": [\n          \"Edmonton\",\n          \"Calgary\",\n          \"Lethbridge\"\n        ],\n        \"semantic_type\": \"\",\n        \"description\": \"\"\n      }\n    },\n    {\n      \"column\": \"State\",\n      \"properties\": {\n        \"dtype\": \"category\",\n        \"num_unique_values\": 1,\n        \"samples\": [\n          \"AB\"\n        ],\n        \"semantic_type\": \"\",\n        \"description\": \"\"\n      }\n    },\n    {\n      \"column\": \"Country\",\n      \"properties\": {\n        \"dtype\": \"category\",\n        \"num_unique_values\": 1,\n        \"samples\": [\n          \"Canada\"\n        ],\n        \"semantic_type\": \"\",\n        \"description\": \"\"\n      }\n    },\n    {\n      \"column\": \"PostalCode\",\n      \"properties\": {\n        \"dtype\": \"string\",\n        \"num_unique_values\": 8,\n        \"samples\": [\n          \"T2P 2T3\"\n        ],\n        \"semantic_type\": \"\",\n        \"description\": \"\"\n      }\n    },\n    {\n      \"column\": \"Phone\",\n      \"properties\": {\n        \"dtype\": \"string\",\n        \"num_unique_values\": 7,\n        \"samples\": [\n          \"+1 (780) 428-9482\"\n        ],\n        \"semantic_type\": \"\",\n        \"description\": \"\"\n      }\n    },\n    {\n      \"column\": \"Fax\",\n      \"properties\": {\n        \"dtype\": \"string\",\n        \"num_unique_values\": 8,\n        \"samples\": [\n          \"+1 (403) 262-3322\"\n        ],\n        \"semantic_type\": \"\",\n        \"description\": \"\"\n      }\n    },\n    {\n      \"column\": \"Email\",\n      \"properties\": {\n        \"dtype\": \"string\",\n        \"num_unique_values\": 8,\n        \"samples\": [\n          \"nancy@chinookcorp.com\"\n        ],\n        \"semantic_type\": \"\",\n        \"description\": \"\"\n      }\n    }\n  ]\n}"
            }
          },
          "metadata": {},
          "execution_count": 264
        }
      ]
    },
    {
      "cell_type": "code",
      "source": [
        "employees.shape"
      ],
      "metadata": {
        "colab": {
          "base_uri": "https://localhost:8080/"
        },
        "id": "cRSroS4F9q9R",
        "outputId": "e4819cfc-1649-4883-bf37-bb821856fe23"
      },
      "execution_count": 265,
      "outputs": [
        {
          "output_type": "execute_result",
          "data": {
            "text/plain": [
              "(8, 15)"
            ]
          },
          "metadata": {},
          "execution_count": 265
        }
      ]
    },
    {
      "cell_type": "code",
      "source": [
        "employees.info()"
      ],
      "metadata": {
        "colab": {
          "base_uri": "https://localhost:8080/"
        },
        "id": "rjUdFM6i9tEr",
        "outputId": "29ae9be2-d547-41d0-c553-c328aa08d437"
      },
      "execution_count": 266,
      "outputs": [
        {
          "output_type": "stream",
          "name": "stdout",
          "text": [
            "<class 'pandas.core.frame.DataFrame'>\n",
            "RangeIndex: 8 entries, 0 to 7\n",
            "Data columns (total 15 columns):\n",
            " #   Column      Non-Null Count  Dtype  \n",
            "---  ------      --------------  -----  \n",
            " 0   EmployeeId  8 non-null      int64  \n",
            " 1   LastName    8 non-null      object \n",
            " 2   FirstName   8 non-null      object \n",
            " 3   Title       8 non-null      object \n",
            " 4   ReportsTo   7 non-null      float64\n",
            " 5   BirthDate   8 non-null      object \n",
            " 6   HireDate    8 non-null      object \n",
            " 7   Address     8 non-null      object \n",
            " 8   City        8 non-null      object \n",
            " 9   State       8 non-null      object \n",
            " 10  Country     8 non-null      object \n",
            " 11  PostalCode  8 non-null      object \n",
            " 12  Phone       8 non-null      object \n",
            " 13  Fax         8 non-null      object \n",
            " 14  Email       8 non-null      object \n",
            "dtypes: float64(1), int64(1), object(13)\n",
            "memory usage: 1.1+ KB\n"
          ]
        }
      ]
    },
    {
      "cell_type": "code",
      "source": [
        "# Get a list of the tables in the database\n",
        "%%script sqlite3 --column --header chinook.db\n",
        ".tables"
      ],
      "metadata": {
        "colab": {
          "base_uri": "https://localhost:8080/"
        },
        "id": "ANhp0ly-9v4o",
        "outputId": "efc23c42-ddd2-40ae-e44d-b0a3e9857693"
      },
      "execution_count": 267,
      "outputs": [
        {
          "output_type": "stream",
          "name": "stdout",
          "text": [
            "albums          employees       invoices        playlists     \n",
            "artists         genres          media_types     tracks        \n",
            "customers       invoice_items   playlist_track\n"
          ]
        }
      ]
    },
    {
      "cell_type": "code",
      "source": [
        "# Show the schema for the entire database\n",
        "%%script sqlite3 --column --header chinook.db\n",
        ".schema"
      ],
      "metadata": {
        "colab": {
          "base_uri": "https://localhost:8080/"
        },
        "id": "7Ew_00Zb99bm",
        "outputId": "dd5a98c2-2e48-4fca-f216-8256485716f8"
      },
      "execution_count": 268,
      "outputs": [
        {
          "output_type": "stream",
          "name": "stdout",
          "text": [
            "CREATE TABLE IF NOT EXISTS \"albums\"\r\n",
            "(\r\n",
            "    [AlbumId] INTEGER PRIMARY KEY AUTOINCREMENT NOT NULL,\r\n",
            "    [Title] NVARCHAR(160)  NOT NULL,\r\n",
            "    [ArtistId] INTEGER  NOT NULL,\r\n",
            "    FOREIGN KEY ([ArtistId]) REFERENCES \"artists\" ([ArtistId]) \r\n",
            "\t\tON DELETE NO ACTION ON UPDATE NO ACTION\r\n",
            ");\n",
            "CREATE TABLE sqlite_sequence(name,seq);\n",
            "CREATE TABLE IF NOT EXISTS \"artists\"\r\n",
            "(\r\n",
            "    [ArtistId] INTEGER PRIMARY KEY AUTOINCREMENT NOT NULL,\r\n",
            "    [Name] NVARCHAR(120)\r\n",
            ");\n",
            "CREATE TABLE IF NOT EXISTS \"customers\"\r\n",
            "(\r\n",
            "    [CustomerId] INTEGER PRIMARY KEY AUTOINCREMENT NOT NULL,\r\n",
            "    [FirstName] NVARCHAR(40)  NOT NULL,\r\n",
            "    [LastName] NVARCHAR(20)  NOT NULL,\r\n",
            "    [Company] NVARCHAR(80),\r\n",
            "    [Address] NVARCHAR(70),\r\n",
            "    [City] NVARCHAR(40),\r\n",
            "    [State] NVARCHAR(40),\r\n",
            "    [Country] NVARCHAR(40),\r\n",
            "    [PostalCode] NVARCHAR(10),\r\n",
            "    [Phone] NVARCHAR(24),\r\n",
            "    [Fax] NVARCHAR(24),\r\n",
            "    [Email] NVARCHAR(60)  NOT NULL,\r\n",
            "    [SupportRepId] INTEGER,\r\n",
            "    FOREIGN KEY ([SupportRepId]) REFERENCES \"employees\" ([EmployeeId]) \r\n",
            "\t\tON DELETE NO ACTION ON UPDATE NO ACTION\r\n",
            ");\n",
            "CREATE TABLE IF NOT EXISTS \"employees\"\r\n",
            "(\r\n",
            "    [EmployeeId] INTEGER PRIMARY KEY AUTOINCREMENT NOT NULL,\r\n",
            "    [LastName] NVARCHAR(20)  NOT NULL,\r\n",
            "    [FirstName] NVARCHAR(20)  NOT NULL,\r\n",
            "    [Title] NVARCHAR(30),\r\n",
            "    [ReportsTo] INTEGER,\r\n",
            "    [BirthDate] DATETIME,\r\n",
            "    [HireDate] DATETIME,\r\n",
            "    [Address] NVARCHAR(70),\r\n",
            "    [City] NVARCHAR(40),\r\n",
            "    [State] NVARCHAR(40),\r\n",
            "    [Country] NVARCHAR(40),\r\n",
            "    [PostalCode] NVARCHAR(10),\r\n",
            "    [Phone] NVARCHAR(24),\r\n",
            "    [Fax] NVARCHAR(24),\r\n",
            "    [Email] NVARCHAR(60),\r\n",
            "    FOREIGN KEY ([ReportsTo]) REFERENCES \"employees\" ([EmployeeId]) \r\n",
            "\t\tON DELETE NO ACTION ON UPDATE NO ACTION\r\n",
            ");\n",
            "CREATE TABLE IF NOT EXISTS \"genres\"\r\n",
            "(\r\n",
            "    [GenreId] INTEGER PRIMARY KEY AUTOINCREMENT NOT NULL,\r\n",
            "    [Name] NVARCHAR(120)\r\n",
            ");\n",
            "CREATE TABLE IF NOT EXISTS \"invoices\"\r\n",
            "(\r\n",
            "    [InvoiceId] INTEGER PRIMARY KEY AUTOINCREMENT NOT NULL,\r\n",
            "    [CustomerId] INTEGER  NOT NULL,\r\n",
            "    [InvoiceDate] DATETIME  NOT NULL,\r\n",
            "    [BillingAddress] NVARCHAR(70),\r\n",
            "    [BillingCity] NVARCHAR(40),\r\n",
            "    [BillingState] NVARCHAR(40),\r\n",
            "    [BillingCountry] NVARCHAR(40),\r\n",
            "    [BillingPostalCode] NVARCHAR(10),\r\n",
            "    [Total] NUMERIC(10,2)  NOT NULL,\r\n",
            "    FOREIGN KEY ([CustomerId]) REFERENCES \"customers\" ([CustomerId]) \r\n",
            "\t\tON DELETE NO ACTION ON UPDATE NO ACTION\r\n",
            ");\n",
            "CREATE TABLE IF NOT EXISTS \"invoice_items\"\r\n",
            "(\r\n",
            "    [InvoiceLineId] INTEGER PRIMARY KEY AUTOINCREMENT NOT NULL,\r\n",
            "    [InvoiceId] INTEGER  NOT NULL,\r\n",
            "    [TrackId] INTEGER  NOT NULL,\r\n",
            "    [UnitPrice] NUMERIC(10,2)  NOT NULL,\r\n",
            "    [Quantity] INTEGER  NOT NULL,\r\n",
            "    FOREIGN KEY ([InvoiceId]) REFERENCES \"invoices\" ([InvoiceId]) \r\n",
            "\t\tON DELETE NO ACTION ON UPDATE NO ACTION,\r\n",
            "    FOREIGN KEY ([TrackId]) REFERENCES \"tracks\" ([TrackId]) \r\n",
            "\t\tON DELETE NO ACTION ON UPDATE NO ACTION\r\n",
            ");\n",
            "CREATE TABLE IF NOT EXISTS \"media_types\"\r\n",
            "(\r\n",
            "    [MediaTypeId] INTEGER PRIMARY KEY AUTOINCREMENT NOT NULL,\r\n",
            "    [Name] NVARCHAR(120)\r\n",
            ");\n",
            "CREATE TABLE IF NOT EXISTS \"playlists\"\r\n",
            "(\r\n",
            "    [PlaylistId] INTEGER PRIMARY KEY AUTOINCREMENT NOT NULL,\r\n",
            "    [Name] NVARCHAR(120)\r\n",
            ");\n",
            "CREATE TABLE IF NOT EXISTS \"playlist_track\"\r\n",
            "(\r\n",
            "    [PlaylistId] INTEGER  NOT NULL,\r\n",
            "    [TrackId] INTEGER  NOT NULL,\r\n",
            "    CONSTRAINT [PK_PlaylistTrack] PRIMARY KEY  ([PlaylistId], [TrackId]),\r\n",
            "    FOREIGN KEY ([PlaylistId]) REFERENCES \"playlists\" ([PlaylistId]) \r\n",
            "\t\tON DELETE NO ACTION ON UPDATE NO ACTION,\r\n",
            "    FOREIGN KEY ([TrackId]) REFERENCES \"tracks\" ([TrackId]) \r\n",
            "\t\tON DELETE NO ACTION ON UPDATE NO ACTION\r\n",
            ");\n",
            "CREATE TABLE IF NOT EXISTS \"tracks\"\r\n",
            "(\r\n",
            "    [TrackId] INTEGER PRIMARY KEY AUTOINCREMENT NOT NULL,\r\n",
            "    [Name] NVARCHAR(200)  NOT NULL,\r\n",
            "    [AlbumId] INTEGER,\r\n",
            "    [MediaTypeId] INTEGER  NOT NULL,\r\n",
            "    [GenreId] INTEGER,\r\n",
            "    [Composer] NVARCHAR(220),\r\n",
            "    [Milliseconds] INTEGER  NOT NULL,\r\n",
            "    [Bytes] INTEGER,\r\n",
            "    [UnitPrice] NUMERIC(10,2)  NOT NULL,\r\n",
            "    FOREIGN KEY ([AlbumId]) REFERENCES \"albums\" ([AlbumId]) \r\n",
            "\t\tON DELETE NO ACTION ON UPDATE NO ACTION,\r\n",
            "    FOREIGN KEY ([GenreId]) REFERENCES \"genres\" ([GenreId]) \r\n",
            "\t\tON DELETE NO ACTION ON UPDATE NO ACTION,\r\n",
            "    FOREIGN KEY ([MediaTypeId]) REFERENCES \"media_types\" ([MediaTypeId]) \r\n",
            "\t\tON DELETE NO ACTION ON UPDATE NO ACTION\r\n",
            ");\n",
            "CREATE INDEX [IFK_AlbumArtistId] ON \"albums\" ([ArtistId]);\n",
            "CREATE INDEX [IFK_CustomerSupportRepId] ON \"customers\" ([SupportRepId]);\n",
            "CREATE INDEX [IFK_EmployeeReportsTo] ON \"employees\" ([ReportsTo]);\n",
            "CREATE INDEX [IFK_InvoiceCustomerId] ON \"invoices\" ([CustomerId]);\n",
            "CREATE INDEX [IFK_InvoiceLineInvoiceId] ON \"invoice_items\" ([InvoiceId]);\n",
            "CREATE INDEX [IFK_InvoiceLineTrackId] ON \"invoice_items\" ([TrackId]);\n",
            "CREATE INDEX [IFK_PlaylistTrackTrackId] ON \"playlist_track\" ([TrackId]);\n",
            "CREATE INDEX [IFK_TrackAlbumId] ON \"tracks\" ([AlbumId]);\n",
            "CREATE INDEX [IFK_TrackGenreId] ON \"tracks\" ([GenreId]);\n",
            "CREATE INDEX [IFK_TrackMediaTypeId] ON \"tracks\" ([MediaTypeId]);\n",
            "CREATE TABLE sqlite_stat1(tbl,idx,stat);\n"
          ]
        }
      ]
    },
    {
      "cell_type": "code",
      "source": [
        "conn = sqlite3.connect('chinook.db')\n",
        "cursor = conn.cursor()\n",
        "\n",
        "# Query to get all tables and views\n",
        "cursor.execute(\"SELECT name, type FROM sqlite_master WHERE type IN ('table', 'view');\")\n",
        "tables = cursor.fetchall()\n",
        "\n",
        "# Display the list of tables and views\n",
        "for table in tables:\n",
        "    print(table)\n",
        "\n",
        "# Close the connection\n",
        "conn.close()"
      ],
      "metadata": {
        "id": "UhFW0uTR6Jfv",
        "outputId": "9bbf3d84-0978-4fac-80c9-c539be209045",
        "colab": {
          "base_uri": "https://localhost:8080/"
        }
      },
      "execution_count": 269,
      "outputs": [
        {
          "output_type": "stream",
          "name": "stdout",
          "text": [
            "('albums', 'table')\n",
            "('sqlite_sequence', 'table')\n",
            "('artists', 'table')\n",
            "('customers', 'table')\n",
            "('employees', 'table')\n",
            "('genres', 'table')\n",
            "('invoices', 'table')\n",
            "('invoice_items', 'table')\n",
            "('media_types', 'table')\n",
            "('playlists', 'table')\n",
            "('playlist_track', 'table')\n",
            "('tracks', 'table')\n",
            "('sqlite_stat1', 'table')\n"
          ]
        }
      ]
    },
    {
      "cell_type": "code",
      "source": [
        "# Select the first 10 entries from the employees table\n",
        "%%script sqlite3 --column --header chinook.db\n",
        "select *\n",
        "from employees\n",
        "limit 10"
      ],
      "metadata": {
        "colab": {
          "base_uri": "https://localhost:8080/"
        },
        "id": "7PAuy1rI-BoV",
        "outputId": "266655a7-208a-4ca1-972a-c4c3c4a52977"
      },
      "execution_count": 270,
      "outputs": [
        {
          "output_type": "stream",
          "name": "stdout",
          "text": [
            "EmployeeId  LastName  FirstName  Title                ReportsTo  BirthDate            HireDate             Address                      City        State  Country  PostalCode  Phone              Fax                Email                   \n",
            "----------  --------  ---------  -------------------  ---------  -------------------  -------------------  ---------------------------  ----------  -----  -------  ----------  -----------------  -----------------  ------------------------\n",
            "1           Adams     Andrew     General Manager                 1962-02-18 00:00:00  2002-08-14 00:00:00  11120 Jasper Ave NW          Edmonton    AB     Canada   T5K 2N1     +1 (780) 428-9482  +1 (780) 428-3457  andrew@chinookcorp.com  \n",
            "2           Edwards   Nancy      Sales Manager        1          1958-12-08 00:00:00  2002-05-01 00:00:00  825 8 Ave SW                 Calgary     AB     Canada   T2P 2T3     +1 (403) 262-3443  +1 (403) 262-3322  nancy@chinookcorp.com   \n",
            "3           Peacock   Jane       Sales Support Agent  2          1973-08-29 00:00:00  2002-04-01 00:00:00  1111 6 Ave SW                Calgary     AB     Canada   T2P 5M5     +1 (403) 262-3443  +1 (403) 262-6712  jane@chinookcorp.com    \n",
            "4           Park      Margaret   Sales Support Agent  2          1947-09-19 00:00:00  2003-05-03 00:00:00  683 10 Street SW             Calgary     AB     Canada   T2P 5G3     +1 (403) 263-4423  +1 (403) 263-4289  margaret@chinookcorp.com\n",
            "5           Johnson   Steve      Sales Support Agent  2          1965-03-03 00:00:00  2003-10-17 00:00:00  7727B 41 Ave                 Calgary     AB     Canada   T3B 1Y7     1 (780) 836-9987   1 (780) 836-9543   steve@chinookcorp.com   \n",
            "6           Mitchell  Michael    IT Manager           1          1973-07-01 00:00:00  2003-10-17 00:00:00  5827 Bowness Road NW         Calgary     AB     Canada   T3B 0C5     +1 (403) 246-9887  +1 (403) 246-9899  michael@chinookcorp.com \n",
            "7           King      Robert     IT Staff             6          1970-05-29 00:00:00  2004-01-02 00:00:00  590 Columbia Boulevard West  Lethbridge  AB     Canada   T1K 5N8     +1 (403) 456-9986  +1 (403) 456-8485  robert@chinookcorp.com  \n",
            "8           Callahan  Laura      IT Staff             6          1968-01-09 00:00:00  2004-03-04 00:00:00  923 7 ST NW                  Lethbridge  AB     Canada   T1H 1Y8     +1 (403) 467-3351  +1 (403) 467-8772  laura@chinookcorp.com   \n"
          ]
        }
      ]
    },
    {
      "cell_type": "code",
      "source": [
        "# Count the number of unique albums\n",
        "%%script sqlite3 --column --header chinook.db\n",
        "select count(distinct AlbumID)\n",
        "from tracks"
      ],
      "metadata": {
        "colab": {
          "base_uri": "https://localhost:8080/"
        },
        "id": "XnPGO0A4-CpY",
        "outputId": "b280fff3-126a-43ce-eaf3-d03c0a17b156"
      },
      "execution_count": 271,
      "outputs": [
        {
          "output_type": "stream",
          "name": "stdout",
          "text": [
            "count(distinct AlbumID)\n",
            "-----------------------\n",
            "347                    \n"
          ]
        }
      ]
    },
    {
      "cell_type": "code",
      "source": [
        "# Select the first 10 entries from the albums table\n",
        "%%script sqlite3 --column --header chinook.db\n",
        "select *\n",
        "from albums\n",
        "limit 10\n"
      ],
      "metadata": {
        "colab": {
          "base_uri": "https://localhost:8080/"
        },
        "id": "mt10mEv_-G7U",
        "outputId": "58e80885-1e9b-4b60-bb70-4322ddfed2ee"
      },
      "execution_count": 272,
      "outputs": [
        {
          "output_type": "stream",
          "name": "stdout",
          "text": [
            "AlbumId  Title                                  ArtistId\n",
            "-------  -------------------------------------  --------\n",
            "1        For Those About To Rock We Salute You  1       \n",
            "2        Balls to the Wall                      2       \n",
            "3        Restless and Wild                      2       \n",
            "4        Let There Be Rock                      1       \n",
            "5        Big Ones                               3       \n",
            "6        Jagged Little Pill                     4       \n",
            "7        Facelift                               5       \n",
            "8        Warner 25 Anos                         6       \n",
            "9        Plays Metallica By Four Cellos         7       \n",
            "10       Audioslave                             8       \n"
          ]
        }
      ]
    },
    {
      "cell_type": "code",
      "source": [
        "# Select the first 10 entries from the artists table\n",
        "%%script sqlite3 --column --header chinook.db\n",
        "select *\n",
        "from artists\n",
        "limit 10"
      ],
      "metadata": {
        "colab": {
          "base_uri": "https://localhost:8080/"
        },
        "id": "gQsxguMJ-KPK",
        "outputId": "1d6669b8-e789-46b5-b517-08bed3b90447"
      },
      "execution_count": 273,
      "outputs": [
        {
          "output_type": "stream",
          "name": "stdout",
          "text": [
            "ArtistId  Name                \n",
            "--------  --------------------\n",
            "1         AC/DC               \n",
            "2         Accept              \n",
            "3         Aerosmith           \n",
            "4         Alanis Morissette   \n",
            "5         Alice In Chains     \n",
            "6         Antônio Carlos Jobim\n",
            "7         Apocalyptica        \n",
            "8         Audioslave          \n",
            "9         BackBeat            \n",
            "10        Billy Cobham        \n"
          ]
        }
      ]
    },
    {
      "cell_type": "code",
      "source": [
        "# Select employees and their bosses\n",
        "%%script sqlite3 --column --header chinook.db\n",
        "select emp1.EmployeeId, emp1.LastName, emp1.FirstName, emp1.Title, emp1.ReportsTo, emp2.ReportsTo, emp2.EmployeeId, emp2.LastName, emp2.FirstName\n",
        "from employees as emp1\n",
        "join employees as emp2\n",
        "on emp1.ReportsTo = emp2.EmployeeID"
      ],
      "metadata": {
        "colab": {
          "base_uri": "https://localhost:8080/"
        },
        "id": "sRP0x0BW-Vd_",
        "outputId": "7faf7bac-489b-4380-935f-2662f8b6a5ad"
      },
      "execution_count": 274,
      "outputs": [
        {
          "output_type": "stream",
          "name": "stdout",
          "text": [
            "EmployeeId  LastName  FirstName  Title                ReportsTo  ReportsTo  EmployeeId  LastName  FirstName\n",
            "----------  --------  ---------  -------------------  ---------  ---------  ----------  --------  ---------\n",
            "2           Edwards   Nancy      Sales Manager        1                     1           Adams     Andrew   \n",
            "3           Peacock   Jane       Sales Support Agent  2          1          2           Edwards   Nancy    \n",
            "4           Park      Margaret   Sales Support Agent  2          1          2           Edwards   Nancy    \n",
            "5           Johnson   Steve      Sales Support Agent  2          1          2           Edwards   Nancy    \n",
            "6           Mitchell  Michael    IT Manager           1                     1           Adams     Andrew   \n",
            "7           King      Robert     IT Staff             6          1          6           Mitchell  Michael  \n",
            "8           Callahan  Laura      IT Staff             6          1          6           Mitchell  Michael  \n"
          ]
        }
      ]
    },
    {
      "cell_type": "code",
      "source": [
        "# The first three entries from a self cross join of employees\n",
        "%%script sqlite3 --column --header chinook.db\n",
        "select *\n",
        "from employees as emp1\n",
        "join employees as emp2\n",
        "limit 3"
      ],
      "metadata": {
        "colab": {
          "base_uri": "https://localhost:8080/"
        },
        "id": "yr2qm5UF-Xwe",
        "outputId": "c59d3da1-0340-44c4-cd6e-719142cf7c0b"
      },
      "execution_count": 275,
      "outputs": [
        {
          "output_type": "stream",
          "name": "stdout",
          "text": [
            "EmployeeId  LastName  FirstName  Title            ReportsTo  BirthDate            HireDate             Address              City      State  Country  PostalCode  Phone              Fax                Email                   EmployeeId  LastName  FirstName  Title                ReportsTo  BirthDate            HireDate             Address              City      State  Country  PostalCode  Phone              Fax                Email                 \n",
            "----------  --------  ---------  ---------------  ---------  -------------------  -------------------  -------------------  --------  -----  -------  ----------  -----------------  -----------------  ----------------------  ----------  --------  ---------  -------------------  ---------  -------------------  -------------------  -------------------  --------  -----  -------  ----------  -----------------  -----------------  ----------------------\n",
            "1           Adams     Andrew     General Manager             1962-02-18 00:00:00  2002-08-14 00:00:00  11120 Jasper Ave NW  Edmonton  AB     Canada   T5K 2N1     +1 (780) 428-9482  +1 (780) 428-3457  andrew@chinookcorp.com  1           Adams     Andrew     General Manager                 1962-02-18 00:00:00  2002-08-14 00:00:00  11120 Jasper Ave NW  Edmonton  AB     Canada   T5K 2N1     +1 (780) 428-9482  +1 (780) 428-3457  andrew@chinookcorp.com\n",
            "1           Adams     Andrew     General Manager             1962-02-18 00:00:00  2002-08-14 00:00:00  11120 Jasper Ave NW  Edmonton  AB     Canada   T5K 2N1     +1 (780) 428-9482  +1 (780) 428-3457  andrew@chinookcorp.com  2           Edwards   Nancy      Sales Manager        1          1958-12-08 00:00:00  2002-05-01 00:00:00  825 8 Ave SW         Calgary   AB     Canada   T2P 2T3     +1 (403) 262-3443  +1 (403) 262-3322  nancy@chinookcorp.com \n",
            "1           Adams     Andrew     General Manager             1962-02-18 00:00:00  2002-08-14 00:00:00  11120 Jasper Ave NW  Edmonton  AB     Canada   T5K 2N1     +1 (780) 428-9482  +1 (780) 428-3457  andrew@chinookcorp.com  3           Peacock   Jane       Sales Support Agent  2          1973-08-29 00:00:00  2002-04-01 00:00:00  1111 6 Ave SW        Calgary   AB     Canada   T2P 5M5     +1 (403) 262-3443  +1 (403) 262-6712  jane@chinookcorp.com  \n"
          ]
        }
      ]
    },
    {
      "cell_type": "code",
      "source": [
        "# Select the first 10 entries from joining the artists and albums tables\n",
        "%%script sqlite3 --column --header chinook.db\n",
        "select *\n",
        "from artists\n",
        "join albums\n",
        "on artists.ArtistID = albums.ArtistID\n",
        "limit 10"
      ],
      "metadata": {
        "colab": {
          "base_uri": "https://localhost:8080/"
        },
        "id": "e3iKRGdC-R4y",
        "outputId": "0a18aad3-6c94-4457-ba3b-db037bbc2ae3"
      },
      "execution_count": 276,
      "outputs": [
        {
          "output_type": "stream",
          "name": "stdout",
          "text": [
            "ArtistId  Name                  AlbumId  Title                                  ArtistId\n",
            "--------  --------------------  -------  -------------------------------------  --------\n",
            "1         AC/DC                 1        For Those About To Rock We Salute You  1       \n",
            "2         Accept                2        Balls to the Wall                      2       \n",
            "2         Accept                3        Restless and Wild                      2       \n",
            "1         AC/DC                 4        Let There Be Rock                      1       \n",
            "3         Aerosmith             5        Big Ones                               3       \n",
            "4         Alanis Morissette     6        Jagged Little Pill                     4       \n",
            "5         Alice In Chains       7        Facelift                               5       \n",
            "6         Antônio Carlos Jobim  8        Warner 25 Anos                         6       \n",
            "7         Apocalyptica          9        Plays Metallica By Four Cellos         7       \n",
            "8         Audioslave            10       Audioslave                             8       \n"
          ]
        }
      ]
    },
    {
      "cell_type": "code",
      "source": [
        "# Select a few columns from a self cross joins of employees\n",
        "%%script sqlite3 --column --header chinook.db\n",
        "select emp1.EmployeeID, emp1.FirstName, emp1.ReportsTo, emp2.EmployeeID, emp2.FirstName\n",
        "from employees as emp1\n",
        "join employees as emp2"
      ],
      "metadata": {
        "colab": {
          "base_uri": "https://localhost:8080/"
        },
        "id": "tHzn0QxC-aRt",
        "outputId": "2185b67c-aa67-4aa5-f127-d0441270d561"
      },
      "execution_count": 277,
      "outputs": [
        {
          "output_type": "stream",
          "name": "stdout",
          "text": [
            "EmployeeId  FirstName  ReportsTo  EmployeeId  FirstName\n",
            "----------  ---------  ---------  ----------  ---------\n",
            "1           Andrew                1           Andrew   \n",
            "1           Andrew                2           Nancy    \n",
            "1           Andrew                3           Jane     \n",
            "1           Andrew                4           Margaret \n",
            "1           Andrew                5           Steve    \n",
            "1           Andrew                6           Michael  \n",
            "1           Andrew                7           Robert   \n",
            "1           Andrew                8           Laura    \n",
            "2           Nancy      1          1           Andrew   \n",
            "2           Nancy      1          2           Nancy    \n",
            "2           Nancy      1          3           Jane     \n",
            "2           Nancy      1          4           Margaret \n",
            "2           Nancy      1          5           Steve    \n",
            "2           Nancy      1          6           Michael  \n",
            "2           Nancy      1          7           Robert   \n",
            "2           Nancy      1          8           Laura    \n",
            "3           Jane       2          1           Andrew   \n",
            "3           Jane       2          2           Nancy    \n",
            "3           Jane       2          3           Jane     \n",
            "3           Jane       2          4           Margaret \n",
            "3           Jane       2          5           Steve    \n",
            "3           Jane       2          6           Michael  \n",
            "3           Jane       2          7           Robert   \n",
            "3           Jane       2          8           Laura    \n",
            "4           Margaret   2          1           Andrew   \n",
            "4           Margaret   2          2           Nancy    \n",
            "4           Margaret   2          3           Jane     \n",
            "4           Margaret   2          4           Margaret \n",
            "4           Margaret   2          5           Steve    \n",
            "4           Margaret   2          6           Michael  \n",
            "4           Margaret   2          7           Robert   \n",
            "4           Margaret   2          8           Laura    \n",
            "5           Steve      2          1           Andrew   \n",
            "5           Steve      2          2           Nancy    \n",
            "5           Steve      2          3           Jane     \n",
            "5           Steve      2          4           Margaret \n",
            "5           Steve      2          5           Steve    \n",
            "5           Steve      2          6           Michael  \n",
            "5           Steve      2          7           Robert   \n",
            "5           Steve      2          8           Laura    \n",
            "6           Michael    1          1           Andrew   \n",
            "6           Michael    1          2           Nancy    \n",
            "6           Michael    1          3           Jane     \n",
            "6           Michael    1          4           Margaret \n",
            "6           Michael    1          5           Steve    \n",
            "6           Michael    1          6           Michael  \n",
            "6           Michael    1          7           Robert   \n",
            "6           Michael    1          8           Laura    \n",
            "7           Robert     6          1           Andrew   \n",
            "7           Robert     6          2           Nancy    \n",
            "7           Robert     6          3           Jane     \n",
            "7           Robert     6          4           Margaret \n",
            "7           Robert     6          5           Steve    \n",
            "7           Robert     6          6           Michael  \n",
            "7           Robert     6          7           Robert   \n",
            "7           Robert     6          8           Laura    \n",
            "8           Laura      6          1           Andrew   \n",
            "8           Laura      6          2           Nancy    \n",
            "8           Laura      6          3           Jane     \n",
            "8           Laura      6          4           Margaret \n",
            "8           Laura      6          5           Steve    \n",
            "8           Laura      6          6           Michael  \n",
            "8           Laura      6          7           Robert   \n",
            "8           Laura      6          8           Laura    \n"
          ]
        }
      ]
    },
    {
      "cell_type": "code",
      "source": [
        "# Connect to the database\n",
        "conn = sqlite3.connect('chinook.db')\n",
        "cursor = conn.cursor()\n",
        "\n",
        "# List of tables to query\n",
        "tables = ['albums', 'artists', 'customers', 'employees', 'invoices', 'invoice_items', 'media_types', 'tracks']\n",
        "\n",
        "# Loop through each table to count records\n",
        "for table in tables:\n",
        "    cursor.execute(f\"SELECT COUNT(*) FROM {table};\")\n",
        "    count = cursor.fetchone()[0]\n",
        "    print(f\"Table {table} has {count} records.\")\n",
        "\n",
        "# Close the connection\n",
        "conn.close()"
      ],
      "metadata": {
        "id": "YaEh-zU0CizD",
        "outputId": "c399c496-2287-41f6-d7aa-bb9820fc9595",
        "colab": {
          "base_uri": "https://localhost:8080/"
        }
      },
      "execution_count": 278,
      "outputs": [
        {
          "output_type": "stream",
          "name": "stdout",
          "text": [
            "Table albums has 347 records.\n",
            "Table artists has 275 records.\n",
            "Table customers has 59 records.\n",
            "Table employees has 8 records.\n",
            "Table invoices has 412 records.\n",
            "Table invoice_items has 2240 records.\n",
            "Table media_types has 5 records.\n",
            "Table tracks has 3503 records.\n"
          ]
        }
      ]
    },
    {
      "cell_type": "code",
      "source": [
        "# Select the first 10 entries from a self cross joins of employees\n",
        "%%script sqlite3 --column --header chinook.db\n",
        "select emp1.EmployeeID, emp1.FirstName, emp1.ReportsTo, emp2.EmployeeID, emp2.FirstName\n",
        "from employees as emp1\n",
        "join employees as emp2\n",
        "limit 10"
      ],
      "metadata": {
        "colab": {
          "base_uri": "https://localhost:8080/"
        },
        "id": "fivUGmJi-ev9",
        "outputId": "6b22b520-42fd-41b7-b7be-1c7504072101"
      },
      "execution_count": 279,
      "outputs": [
        {
          "output_type": "stream",
          "name": "stdout",
          "text": [
            "EmployeeId  FirstName  ReportsTo  EmployeeId  FirstName\n",
            "----------  ---------  ---------  ----------  ---------\n",
            "1           Andrew                1           Andrew   \n",
            "1           Andrew                2           Nancy    \n",
            "1           Andrew                3           Jane     \n",
            "1           Andrew                4           Margaret \n",
            "1           Andrew                5           Steve    \n",
            "1           Andrew                6           Michael  \n",
            "1           Andrew                7           Robert   \n",
            "1           Andrew                8           Laura    \n",
            "2           Nancy      1          1           Andrew   \n",
            "2           Nancy      1          2           Nancy    \n"
          ]
        }
      ]
    },
    {
      "cell_type": "markdown",
      "source": [
        "does .cursor require me to close connection each time?"
      ],
      "metadata": {
        "id": "_rRNB4UarX10"
      }
    },
    {
      "cell_type": "code",
      "source": [
        "conn = sqlite3.connect('chinook.db')\n",
        "cursor = conn.cursor()\n",
        "\n",
        "# Query to find the top 5 selling tracks by revenue\n",
        "cursor.execute('''\n",
        "    SELECT t.Name, SUM(ii.Quantity * ii.UnitPrice) AS Revenue\n",
        "    FROM tracks t\n",
        "    JOIN invoice_items ii ON t.TrackId = ii.TrackId\n",
        "    GROUP BY t.Name\n",
        "    ORDER BY Revenue DESC\n",
        "    LIMIT 5;\n",
        "''')\n",
        "top_tracks = cursor.fetchall()\n",
        "\n",
        "# Display results\n",
        "for track in top_tracks:\n",
        "    print(f\"Track: {track[0]}, Revenue: ${track[1]:.2f}\")\n",
        "\n",
        "conn.close()"
      ],
      "metadata": {
        "id": "gpmJjPBlEEHL",
        "outputId": "2c352f24-d851-4561-baae-7c0b71e2d3cb",
        "colab": {
          "base_uri": "https://localhost:8080/"
        }
      },
      "execution_count": 280,
      "outputs": [
        {
          "output_type": "stream",
          "name": "stdout",
          "text": [
            "Track: The Trooper, Revenue: $4.95\n",
            "Track: Walkabout, Revenue: $3.98\n",
            "Track: The Woman King, Revenue: $3.98\n",
            "Track: The Fix, Revenue: $3.98\n",
            "Track: Pilot, Revenue: $3.98\n"
          ]
        }
      ]
    },
    {
      "cell_type": "code",
      "source": [
        "conn = sqlite3.connect('chinook.db')\n",
        "cursor = conn.cursor()\n",
        "\n",
        "# Query to get total spending by each customer\n",
        "cursor.execute('''\n",
        "    SELECT c.FirstName || ' ' || c.LastName AS Customer, SUM(i.Total) AS TotalSpending\n",
        "    FROM customers c\n",
        "    JOIN invoices i ON c.CustomerId = i.CustomerId\n",
        "    GROUP BY c.CustomerId\n",
        "    ORDER BY TotalSpending DESC\n",
        "    LIMIT 5;\n",
        "''')\n",
        "top_customers = cursor.fetchall()\n",
        "\n",
        "# Display results\n",
        "for customer in top_customers:\n",
        "    print(f\"Customer: {customer[0]}, Total Spending: ${customer[1]:.2f}\")\n",
        "\n",
        "conn.close()\n"
      ],
      "metadata": {
        "id": "RxOpULzzEIiU",
        "outputId": "b7cbfe39-5a6c-45c1-96aa-23b0649014f2",
        "colab": {
          "base_uri": "https://localhost:8080/"
        }
      },
      "execution_count": 281,
      "outputs": [
        {
          "output_type": "stream",
          "name": "stdout",
          "text": [
            "Customer: Helena Holý, Total Spending: $49.62\n",
            "Customer: Richard Cunningham, Total Spending: $47.62\n",
            "Customer: Luis Rojas, Total Spending: $46.62\n",
            "Customer: Ladislav Kovács, Total Spending: $45.62\n",
            "Customer: Hugh O'Reilly, Total Spending: $45.62\n"
          ]
        }
      ]
    },
    {
      "cell_type": "code",
      "source": [
        "conn = sqlite3.connect('chinook.db')\n",
        "cursor = conn.cursor()\n",
        "\n",
        "# Query to count the number of tracks per genre\n",
        "cursor.execute('''\n",
        "    SELECT g.Name AS Genre, COUNT(t.TrackId) AS TrackCount\n",
        "    FROM genres g\n",
        "    JOIN tracks t ON g.GenreId = t.GenreId\n",
        "    GROUP BY g.GenreId\n",
        "    ORDER BY TrackCount DESC\n",
        "    LIMIT 5;\n",
        "''')\n",
        "top_genres = cursor.fetchall()\n",
        "\n",
        "# Display results\n",
        "for genre in top_genres:\n",
        "    print(f\"Genre: {genre[0]}, Track Count: {genre[1]}\")\n",
        "\n",
        "# Close the connection\n",
        "conn.close()"
      ],
      "metadata": {
        "id": "S5EFfsTAENqv",
        "outputId": "f10e1007-10d9-47bf-af1d-5eb7db20d061",
        "colab": {
          "base_uri": "https://localhost:8080/"
        }
      },
      "execution_count": 282,
      "outputs": [
        {
          "output_type": "stream",
          "name": "stdout",
          "text": [
            "Genre: Rock, Track Count: 1297\n",
            "Genre: Latin, Track Count: 579\n",
            "Genre: Metal, Track Count: 374\n",
            "Genre: Alternative & Punk, Track Count: 332\n",
            "Genre: Jazz, Track Count: 130\n"
          ]
        }
      ]
    },
    {
      "cell_type": "code",
      "source": [
        "conn = sqlite3.connect('chinook.db')\n",
        "cursor = conn.cursor()\n",
        "\n",
        "# Correct query to get total sales by employee\n",
        "cursor.execute('''\n",
        "    SELECT e.FirstName || ' ' || e.LastName AS Employee, SUM(i.Total) AS TotalSales\n",
        "    FROM employees e\n",
        "    JOIN invoices i ON e.EmployeeId = EmployeeId  -- Corrected to EmployeeId\n",
        "    GROUP BY e.EmployeeId\n",
        "    ORDER BY TotalSales DESC\n",
        "    LIMIT 5;\n",
        "''')\n",
        "employee_sales = cursor.fetchall()\n",
        "\n",
        "# Display results\n",
        "for employee in employee_sales:\n",
        "    print(f\"Employee: {employee[0]}, Total Sales: ${employee[1]:.2f}\")\n",
        "\n",
        "# Close the connection\n",
        "conn.close()\n"
      ],
      "metadata": {
        "id": "IME4V7SKERx9",
        "outputId": "431baf79-e3e2-4dd6-e1e7-b7f05ce32bf0",
        "colab": {
          "base_uri": "https://localhost:8080/"
        }
      },
      "execution_count": 283,
      "outputs": [
        {
          "output_type": "stream",
          "name": "stdout",
          "text": [
            "Employee: Andrew Adams, Total Sales: $2328.60\n",
            "Employee: Nancy Edwards, Total Sales: $2328.60\n",
            "Employee: Jane Peacock, Total Sales: $2328.60\n",
            "Employee: Margaret Park, Total Sales: $2328.60\n",
            "Employee: Steve Johnson, Total Sales: $2328.60\n"
          ]
        }
      ]
    },
    {
      "cell_type": "code",
      "source": [
        "conn = sqlite3.connect('chinook.db')\n",
        "cursor = conn.cursor()\n",
        "\n",
        "# Query to get track popularity by genre and media type\n",
        "cursor.execute('''\n",
        "    SELECT g.Name AS Genre, mt.Name AS MediaType, COUNT(t.TrackId) AS TrackCount\n",
        "    FROM genres g\n",
        "    JOIN tracks t ON g.GenreId = t.GenreId\n",
        "    JOIN media_types mt ON t.MediaTypeId = mt.MediaTypeId\n",
        "    GROUP BY g.GenreId, mt.MediaTypeId\n",
        "    ORDER BY TrackCount DESC;\n",
        "''')\n",
        "genre_media_popularity = cursor.fetchall()\n",
        "\n",
        "# Display results\n",
        "for record in genre_media_popularity:\n",
        "    print(f\"Genre: {record[0]}, Media Type: {record[1]}, Track Count: {record[2]}\")\n",
        "\n",
        "# Close the connection\n",
        "conn.close()"
      ],
      "metadata": {
        "id": "Zfh0oJKMEk7D",
        "outputId": "69ec0a18-e3b2-404b-971b-e3cb72991f82",
        "colab": {
          "base_uri": "https://localhost:8080/"
        }
      },
      "execution_count": 284,
      "outputs": [
        {
          "output_type": "stream",
          "name": "stdout",
          "text": [
            "Genre: Rock, Media Type: MPEG audio file, Track Count: 1211\n",
            "Genre: Latin, Media Type: MPEG audio file, Track Count: 578\n",
            "Genre: Metal, Media Type: MPEG audio file, Track Count: 374\n",
            "Genre: Alternative & Punk, Media Type: MPEG audio file, Track Count: 332\n",
            "Genre: Jazz, Media Type: MPEG audio file, Track Count: 127\n",
            "Genre: TV Shows, Media Type: Protected MPEG-4 video file, Track Count: 93\n",
            "Genre: Rock, Media Type: Protected AAC audio file, Track Count: 84\n",
            "Genre: Blues, Media Type: MPEG audio file, Track Count: 81\n",
            "Genre: Classical, Media Type: Protected AAC audio file, Track Count: 67\n",
            "Genre: Drama, Media Type: Protected MPEG-4 video file, Track Count: 64\n",
            "Genre: Reggae, Media Type: MPEG audio file, Track Count: 58\n",
            "Genre: R&B/Soul, Media Type: MPEG audio file, Track Count: 49\n",
            "Genre: Soundtrack, Media Type: MPEG audio file, Track Count: 42\n",
            "Genre: Alternative, Media Type: Protected AAC audio file, Track Count: 38\n",
            "Genre: Hip Hop/Rap, Media Type: MPEG audio file, Track Count: 35\n",
            "Genre: Pop, Media Type: Protected AAC audio file, Track Count: 34\n",
            "Genre: Heavy Metal, Media Type: MPEG audio file, Track Count: 28\n",
            "Genre: Electronica/Dance, Media Type: MPEG audio file, Track Count: 28\n",
            "Genre: World, Media Type: MPEG audio file, Track Count: 26\n",
            "Genre: Sci Fi & Fantasy, Media Type: Protected MPEG-4 video file, Track Count: 26\n",
            "Genre: Easy Listening, Media Type: MPEG audio file, Track Count: 24\n",
            "Genre: Comedy, Media Type: Protected MPEG-4 video file, Track Count: 17\n",
            "Genre: Bossa Nova, Media Type: MPEG audio file, Track Count: 15\n",
            "Genre: Pop, Media Type: MPEG audio file, Track Count: 14\n",
            "Genre: Science Fiction, Media Type: Protected MPEG-4 video file, Track Count: 13\n",
            "Genre: Rock And Roll, Media Type: MPEG audio file, Track Count: 12\n",
            "Genre: R&B/Soul, Media Type: Protected AAC audio file, Track Count: 12\n",
            "Genre: Classical, Media Type: Purchased AAC audio file, Track Count: 6\n",
            "Genre: Jazz, Media Type: AAC audio file, Track Count: 3\n",
            "Genre: Rock, Media Type: AAC audio file, Track Count: 2\n",
            "Genre: Electronica/Dance, Media Type: AAC audio file, Track Count: 2\n",
            "Genre: World, Media Type: AAC audio file, Track Count: 2\n",
            "Genre: Soundtrack, Media Type: Protected AAC audio file, Track Count: 1\n",
            "Genre: Opera, Media Type: Protected AAC audio file, Track Count: 1\n",
            "Genre: Alternative, Media Type: Protected MPEG-4 video file, Track Count: 1\n",
            "Genre: Alternative, Media Type: Purchased AAC audio file, Track Count: 1\n",
            "Genre: Latin, Media Type: AAC audio file, Track Count: 1\n",
            "Genre: Classical, Media Type: AAC audio file, Track Count: 1\n"
          ]
        }
      ]
    },
    {
      "cell_type": "code",
      "source": [],
      "metadata": {
        "id": "ggM8yUuoEosl"
      },
      "execution_count": 284,
      "outputs": []
    },
    {
      "cell_type": "markdown",
      "source": [
        "## Come up with questions about your data\n",
        "Have a look at the Entity-Relation ( ER ) diagram to help come up with questions.\n",
        "\n",
        "* What sort of information is in this dataset?\n",
        "* How many records are there?\n",
        "* How many different countries (states, counties, cities, etc) have records in this data set?\n",
        "\n",
        "\n",
        "If you are stuck, here are some ideas for questions:\n",
        "- https://github.com/LucasMcL/15-sql_queries_02-chinook/blob/master/README.md\n",
        "- [Using the R language]( https://rpubs.com/enext777/636199 )\n",
        "- [Search Google]( https://www.google.com/search?q=chinook+database+questions )\n",
        "\n"
      ],
      "metadata": {
        "id": "OA9Mp38s52x2"
      }
    },
    {
      "cell_type": "markdown",
      "source": [
        "## Use SQL queries to pull specific information\n",
        "\n",
        "Do NOT pull all the data and then filter using DataFrame methods etc. Make sure and use AT LEAST 13 of the 15 SQL options listed below. (You may have to get creative and come up with more questions to ask/answer.)\n"
      ],
      "metadata": {
        "id": "TqvaIfog546s"
      }
    },
    {
      "cell_type": "markdown",
      "source": [
        "### Basic Queries\n"
      ],
      "metadata": {
        "id": "borajWvCtRtl"
      }
    },
    {
      "cell_type": "markdown",
      "source": [
        "#### SELECT (with * and with column names)\n"
      ],
      "metadata": {
        "id": "gIEIK51EthwM"
      }
    },
    {
      "cell_type": "code",
      "source": [
        "# Select customers, their rep, and the rep's supervisor\n",
        "## uses CTEs\n",
        "%%script sqlite3 --column --header chinook.db\n",
        "\n",
        "with\n",
        "emp as (\n",
        "  select EmployeeID, FirstName, Lastname, ReportsTo, Title\n",
        "  from employees\n",
        "),\n",
        "reps as (\n",
        "  select EmployeeID, FirstName, Lastname, ReportsTo\n",
        "  from emp\n",
        "  where Title = \"Sales Support Agent\"\n",
        "),\n",
        "supervisors as (\n",
        "  select EmployeeID, FirstName, Lastname\n",
        "  from emp\n",
        "  where Title != \"Sales Support Agent\"\n",
        "\n",
        "),\n",
        "workers as (\n",
        "  select r.EmployeeID as \"EmpID\", r.Firstname as \"Rep\", r.ReportsTo as \"ReportID\", s.EmployeeID as \"SuperID\", s.FirstName as \"Supervisor\"\n",
        "  from reps as r\n",
        "  join supervisors as s\n",
        "  where r.ReportsTo = s.EmployeeID\n",
        "),\n",
        "cust as (\n",
        "  select CustomerID, FirstName as \"Customer\", SupportRepID\n",
        "  from customers\n",
        "),\n",
        "cust_rep_super as (\n",
        "  select Customer, Rep, Supervisor\n",
        "  from cust\n",
        "  join workers\n",
        "  where SupportRepID = EmpID\n",
        ")\n",
        "\n",
        "SELECT *\n",
        "FROM cust_rep_super\n",
        "limit 10"
      ],
      "metadata": {
        "id": "YmICVUnVuBSQ",
        "colab": {
          "base_uri": "https://localhost:8080/"
        },
        "outputId": "92ccfc77-ea58-49b2-b124-57c932740f20"
      },
      "execution_count": 285,
      "outputs": [
        {
          "output_type": "stream",
          "name": "stdout",
          "text": [
            "Customer  Rep   Supervisor\n",
            "--------  ----  ----------\n",
            "Luís      Jane  Nancy     \n",
            "François  Jane  Nancy     \n",
            "Roberto   Jane  Nancy     \n",
            "Jennifer  Jane  Nancy     \n",
            "Michelle  Jane  Nancy     \n",
            "Tim       Jane  Nancy     \n",
            "Frank     Jane  Nancy     \n",
            "Robert    Jane  Nancy     \n",
            "Edward    Jane  Nancy     \n",
            "Ellie     Jane  Nancy     \n"
          ]
        }
      ]
    },
    {
      "cell_type": "code",
      "source": [],
      "metadata": {
        "id": "8slKgFpsuBCh"
      },
      "execution_count": 285,
      "outputs": []
    },
    {
      "cell_type": "markdown",
      "source": [
        "#### WHERE\n"
      ],
      "metadata": {
        "id": "dRvXfTGEtkdQ"
      }
    },
    {
      "cell_type": "code",
      "source": [],
      "metadata": {
        "id": "0oNobfUnt_4Z"
      },
      "execution_count": 285,
      "outputs": []
    },
    {
      "cell_type": "markdown",
      "source": [
        "#### AND\n"
      ],
      "metadata": {
        "id": "u5y_3d4GtlqN"
      }
    },
    {
      "cell_type": "code",
      "source": [],
      "metadata": {
        "id": "H1tgAAFtt_Yy"
      },
      "execution_count": 285,
      "outputs": []
    },
    {
      "cell_type": "markdown",
      "source": [
        "#### OR\n"
      ],
      "metadata": {
        "id": "fddyzEAetnzB"
      }
    },
    {
      "cell_type": "code",
      "source": [],
      "metadata": {
        "id": "HAg8LDQ3t-yr"
      },
      "execution_count": 285,
      "outputs": []
    },
    {
      "cell_type": "markdown",
      "source": [
        "#### LIKE (with % or _ wildcard)\n"
      ],
      "metadata": {
        "id": "-csoeatGtpRq"
      }
    },
    {
      "cell_type": "code",
      "source": [
        "%%script sqlite3 --column --header chinook.db\n",
        "\n",
        "WITH\n",
        "  -- vals       as ( select unitprice as value                        from Invoice_items ),\n",
        "    vals       as ( select Total as value                        from Invoices ),\n",
        "\n",
        "  -- calculate descriptive statistics\n",
        "  count_mean as ( select count(1) as n, max(value) as max, min(value) as min, AVG(value) as mean     from vals ),\n",
        "  delta      as ( select value, n, mean, value - mean as delta from vals, count_mean ),\n",
        "  delta2     as ( select power(delta, 2) as delta2             from delta ),\n",
        "  delta2sum  as ( select sum(delta2) as delta2sum              from delta2 ),\n",
        "  variance   as ( select delta2sum/(n-1) as variance           from delta2sum, count_mean ),\n",
        "  stdev      as ( select power(variance, 0.5) as stdev         from variance ),\n",
        "  desc_stats as ( select *                                     from count_mean, stdev, delta2sum, variance )\n",
        "\n",
        "SELECT\n",
        "  *\n",
        "FROM\n",
        "  desc_stats\n",
        ";\n"
      ],
      "metadata": {
        "id": "UB3EyaRRt9ki",
        "colab": {
          "base_uri": "https://localhost:8080/"
        },
        "outputId": "4dd88b18-c008-4fa7-f16d-eb1bb052a96a"
      },
      "execution_count": 286,
      "outputs": [
        {
          "output_type": "stream",
          "name": "stdout",
          "text": [
            "n    max    min   mean              stdev            delta2sum         variance        \n",
            "---  -----  ----  ----------------  ---------------  ----------------  ----------------\n",
            "412  25.86  0.99  5.65194174757282  4.7453196935681  9254.92224660193  22.5180589941653\n"
          ]
        }
      ]
    },
    {
      "cell_type": "markdown",
      "source": [
        "#### BETWEEN\n"
      ],
      "metadata": {
        "id": "BV8kQ-9FtqGY"
      }
    },
    {
      "cell_type": "code",
      "source": [],
      "metadata": {
        "id": "AAMkUyW6t9IR"
      },
      "execution_count": 286,
      "outputs": []
    },
    {
      "cell_type": "markdown",
      "source": [
        "#### LIMIT\n",
        "\n"
      ],
      "metadata": {
        "id": "3BqrCUPBtqpX"
      }
    },
    {
      "cell_type": "code",
      "source": [],
      "metadata": {
        "id": "CixJguOYuw49"
      },
      "execution_count": 286,
      "outputs": []
    },
    {
      "cell_type": "markdown",
      "source": [
        "### Sorting and Grouping\n"
      ],
      "metadata": {
        "id": "a4DtPW7ytrU7"
      }
    },
    {
      "cell_type": "markdown",
      "source": [
        "#### ORDER BY\n"
      ],
      "metadata": {
        "id": "SneUyw4Xtr-U"
      }
    },
    {
      "cell_type": "code",
      "source": [],
      "metadata": {
        "id": "29jQ-pBFt7uf"
      },
      "execution_count": 286,
      "outputs": []
    },
    {
      "cell_type": "markdown",
      "source": [
        "#### DISTINCT\n"
      ],
      "metadata": {
        "id": "Y22yRW5Wtsl1"
      }
    },
    {
      "cell_type": "code",
      "source": [],
      "metadata": {
        "id": "RGkf7Qh1t7Cm"
      },
      "execution_count": 286,
      "outputs": []
    },
    {
      "cell_type": "markdown",
      "source": [
        "#### GROUP BY\n",
        "\n"
      ],
      "metadata": {
        "id": "Q0mwAOgettPz"
      }
    },
    {
      "cell_type": "code",
      "source": [],
      "metadata": {
        "id": "8cv2_l-Lt6Wv"
      },
      "execution_count": 286,
      "outputs": []
    },
    {
      "cell_type": "markdown",
      "source": [
        "### Aggregates\n"
      ],
      "metadata": {
        "id": "dJUO6Dh3tt5c"
      }
    },
    {
      "cell_type": "markdown",
      "source": [
        "#### MAX\n"
      ],
      "metadata": {
        "id": "spacz18MtvBo"
      }
    },
    {
      "cell_type": "markdown",
      "source": [
        "#### MIN\n"
      ],
      "metadata": {
        "id": "V0z33BTztvoP"
      }
    },
    {
      "cell_type": "code",
      "source": [],
      "metadata": {
        "id": "ishdZ9K3t1fh"
      },
      "execution_count": 286,
      "outputs": []
    },
    {
      "cell_type": "markdown",
      "source": [
        "#### SUM\n"
      ],
      "metadata": {
        "id": "nLYsB9M8twMf"
      }
    },
    {
      "cell_type": "code",
      "source": [],
      "metadata": {
        "id": "aoVDwom0t0zN"
      },
      "execution_count": 286,
      "outputs": []
    },
    {
      "cell_type": "markdown",
      "source": [
        "#### AVG\n"
      ],
      "metadata": {
        "id": "0yI5K0Z5twwB"
      }
    },
    {
      "cell_type": "code",
      "source": [],
      "metadata": {
        "id": "HkNbzJ4mtzgD"
      },
      "execution_count": 286,
      "outputs": []
    },
    {
      "cell_type": "markdown",
      "source": [
        "#### COUNT\n",
        "\n"
      ],
      "metadata": {
        "id": "JEkDbYyutxX5"
      }
    },
    {
      "cell_type": "code",
      "source": [],
      "metadata": {
        "id": "NMrvo0jE6LL9"
      },
      "execution_count": 286,
      "outputs": []
    },
    {
      "cell_type": "markdown",
      "source": [
        "## Make some plots\n",
        "\n",
        "Make some cool plots to go with your data. Write SQL queries to get ONLY the information you need for each plot. (Don't pull ALL the data and then just plot a few columns.)\n",
        "\n"
      ],
      "metadata": {
        "id": "ntL8dHJT57K8"
      }
    },
    {
      "cell_type": "code",
      "source": [
        "pip install matplotlib seaborn pandas\n"
      ],
      "metadata": {
        "id": "SZXIuqBX6L50",
        "outputId": "7949a7ee-a684-46f9-a9bc-eff85acfa804",
        "colab": {
          "base_uri": "https://localhost:8080/"
        }
      },
      "execution_count": 287,
      "outputs": [
        {
          "output_type": "stream",
          "name": "stdout",
          "text": [
            "Requirement already satisfied: matplotlib in /usr/local/lib/python3.11/dist-packages (3.10.0)\n",
            "Requirement already satisfied: seaborn in /usr/local/lib/python3.11/dist-packages (0.13.2)\n",
            "Requirement already satisfied: pandas in /usr/local/lib/python3.11/dist-packages (2.2.2)\n",
            "Requirement already satisfied: contourpy>=1.0.1 in /usr/local/lib/python3.11/dist-packages (from matplotlib) (1.3.1)\n",
            "Requirement already satisfied: cycler>=0.10 in /usr/local/lib/python3.11/dist-packages (from matplotlib) (0.12.1)\n",
            "Requirement already satisfied: fonttools>=4.22.0 in /usr/local/lib/python3.11/dist-packages (from matplotlib) (4.56.0)\n",
            "Requirement already satisfied: kiwisolver>=1.3.1 in /usr/local/lib/python3.11/dist-packages (from matplotlib) (1.4.8)\n",
            "Requirement already satisfied: numpy>=1.23 in /usr/local/lib/python3.11/dist-packages (from matplotlib) (2.0.2)\n",
            "Requirement already satisfied: packaging>=20.0 in /usr/local/lib/python3.11/dist-packages (from matplotlib) (24.2)\n",
            "Requirement already satisfied: pillow>=8 in /usr/local/lib/python3.11/dist-packages (from matplotlib) (11.1.0)\n",
            "Requirement already satisfied: pyparsing>=2.3.1 in /usr/local/lib/python3.11/dist-packages (from matplotlib) (3.2.3)\n",
            "Requirement already satisfied: python-dateutil>=2.7 in /usr/local/lib/python3.11/dist-packages (from matplotlib) (2.8.2)\n",
            "Requirement already satisfied: pytz>=2020.1 in /usr/local/lib/python3.11/dist-packages (from pandas) (2025.2)\n",
            "Requirement already satisfied: tzdata>=2022.7 in /usr/local/lib/python3.11/dist-packages (from pandas) (2025.2)\n",
            "Requirement already satisfied: six>=1.5 in /usr/local/lib/python3.11/dist-packages (from python-dateutil>=2.7->matplotlib) (1.17.0)\n"
          ]
        }
      ]
    },
    {
      "cell_type": "code",
      "source": [
        "import sqlite3\n",
        "import matplotlib.pyplot as plt\n",
        "import pandas as pd\n",
        "\n",
        "# Connect to the database\n",
        "conn = sqlite3.connect('chinook.db')\n",
        "cursor = conn.cursor()\n",
        "\n",
        "# Query to get the top 5 selling tracks by revenue\n",
        "cursor.execute('''\n",
        "    SELECT t.Name, SUM(ii.Quantity * ii.UnitPrice) AS Revenue\n",
        "    FROM tracks t\n",
        "    JOIN invoice_items ii ON t.TrackId = ii.TrackId\n",
        "    GROUP BY t.Name\n",
        "    ORDER BY Revenue DESC\n",
        "    LIMIT 5;\n",
        "''')\n",
        "top_tracks = cursor.fetchall()\n",
        "\n",
        "# Convert to a pandas DataFrame for easy plotting\n",
        "df_tracks = pd.DataFrame(top_tracks, columns=['Track', 'Revenue'])\n",
        "\n",
        "# Plotting\n",
        "plt.figure(figsize=(10, 6))\n",
        "plt.barh(df_tracks['Track'], df_tracks['Revenue'], color='skyblue')\n",
        "plt.xlabel('Revenue ($)')\n",
        "plt.ylabel('Track Name')\n",
        "plt.title('Top 5 Selling Tracks by Revenue')\n",
        "plt.gca().invert_yaxis()  # To display the top-selling track at the top\n",
        "plt.show()\n",
        "\n",
        "# Close the connection\n",
        "conn.close()"
      ],
      "metadata": {
        "id": "sf4OmLJYFD6s",
        "outputId": "2615c705-3d7e-4f0b-8fa7-e4de8e5816c2",
        "colab": {
          "base_uri": "https://localhost:8080/",
          "height": 564
        }
      },
      "execution_count": 288,
      "outputs": [
        {
          "output_type": "display_data",
          "data": {
            "text/plain": [
              "<Figure size 1000x600 with 1 Axes>"
            ],
            "image/png": "[encoded data removed]"
          },
          "metadata": {}
        }
      ]
    },
    {
      "cell_type": "code",
      "source": [
        "# Reconnect to the database\n",
        "conn = sqlite3.connect('chinook.db')\n",
        "cursor = conn.cursor()\n",
        "\n",
        "# Query to get total spending by each customer\n",
        "cursor.execute('''\n",
        "    SELECT c.FirstName || ' ' || c.LastName AS Customer, SUM(i.Total) AS TotalSpending\n",
        "    FROM customers c\n",
        "    JOIN invoices i ON c.CustomerId = i.CustomerId\n",
        "    GROUP BY c.CustomerId\n",
        "    ORDER BY TotalSpending DESC\n",
        "    LIMIT 5;\n",
        "''')\n",
        "top_customers = cursor.fetchall()\n",
        "\n",
        "# Convert to a pandas DataFrame for easy plotting\n",
        "df_customers = pd.DataFrame(top_customers, columns=['Customer', 'TotalSpending'])\n",
        "\n",
        "# Plotting\n",
        "plt.figure(figsize=(10, 6))\n",
        "plt.barh(df_customers['Customer'], df_customers['TotalSpending'], color='lightgreen')\n",
        "plt.xlabel('Total Spending ($)')\n",
        "plt.ylabel('Customer Name')\n",
        "plt.title('Top 5 Customers by Total Spending')\n",
        "plt.gca().invert_yaxis()  # To display the top spender at the top\n",
        "plt.show()\n",
        "\n",
        "# Close the connection\n",
        "conn.close()\n"
      ],
      "metadata": {
        "id": "xhhHKGGeFIKj",
        "outputId": "057e4e17-ff69-44d3-88ee-b288ff6a0e84",
        "colab": {
          "base_uri": "https://localhost:8080/",
          "height": 564
        }
      },
      "execution_count": 289,
      "outputs": [
        {
          "output_type": "display_data",
          "data": {
            "text/plain": [
              "<Figure size 1000x600 with 1 Axes>"
            ],
            "image/png": "[encoded data removed]"
          },
          "metadata": {}
        }
      ]
    },
    {
      "cell_type": "code",
      "source": [
        "# Reconnect to the database\n",
        "conn = sqlite3.connect('chinook.db')\n",
        "cursor = conn.cursor()\n",
        "\n",
        "# Query to count the number of tracks per genre\n",
        "cursor.execute('''\n",
        "    SELECT g.Name AS Genre, COUNT(t.TrackId) AS TrackCount\n",
        "    FROM genres g\n",
        "    JOIN tracks t ON g.GenreId = t.GenreId\n",
        "    GROUP BY g.GenreId\n",
        "    ORDER BY TrackCount DESC\n",
        "    LIMIT 10;\n",
        "''')\n",
        "top_genres = cursor.fetchall()\n",
        "\n",
        "# Convert to a pandas DataFrame for easy plotting\n",
        "df_genres = pd.DataFrame(top_genres, columns=['Genre', 'TrackCount'])\n",
        "\n",
        "# Plotting\n",
        "plt.figure(figsize=(12, 6))\n",
        "plt.barh(df_genres['Genre'], df_genres['TrackCount'], color='salmon')\n",
        "plt.xlabel('Number of Tracks')\n",
        "plt.ylabel('Genre')\n",
        "plt.title('Top 10 Genres by Track Count')\n",
        "plt.gca().invert_yaxis()  # To display the most popular genre at the top\n",
        "plt.show()\n",
        "\n",
        "# Close the connection\n",
        "conn.close()\n"
      ],
      "metadata": {
        "id": "WjUIV1oWFTC3",
        "outputId": "9caebf7e-3ad5-4b60-86b8-dfc47517e13a",
        "colab": {
          "base_uri": "https://localhost:8080/",
          "height": 564
        }
      },
      "execution_count": 290,
      "outputs": [
        {
          "output_type": "display_data",
          "data": {
            "text/plain": [
              "<Figure size 1200x600 with 1 Axes>"
            ],
            "image/png": "[encoded data removed]"
          },
          "metadata": {}
        }
      ]
    },
    {
      "cell_type": "code",
      "source": [
        "# Reconnect to the database\n",
        "conn = sqlite3.connect('chinook.db')\n",
        "cursor = conn.cursor()\n",
        "\n",
        "# Query to get total sales by employee\n",
        "cursor.execute('''\n",
        "    SELECT e.FirstName || ' ' || e.LastName AS Employee, SUM(i.Total) AS TotalSales\n",
        "    FROM employees e\n",
        "    JOIN invoices i ON e.EmployeeId = EmployeeId\n",
        "    GROUP BY e.EmployeeId\n",
        "    ORDER BY TotalSales DESC\n",
        "    LIMIT 5;\n",
        "''')\n",
        "employee_sales = cursor.fetchall()\n",
        "\n",
        "# Convert to a pandas DataFrame for easy plotting\n",
        "df_employee_sales = pd.DataFrame(employee_sales, columns=['Employee', 'TotalSales'])\n",
        "\n",
        "# Plotting\n",
        "plt.figure(figsize=(10, 6))\n",
        "plt.barh(df_employee_sales['Employee'], df_employee_sales['TotalSales'], color='lightcoral')\n",
        "plt.xlabel('Total Sales ($)')\n",
        "plt.ylabel('Employee')\n",
        "plt.title('Top 5 Employees by Total Sales')\n",
        "plt.gca().invert_yaxis()  # To display the highest salesperson at the top\n",
        "plt.show()\n",
        "\n",
        "# Close the connection\n",
        "conn.close()\n"
      ],
      "metadata": {
        "id": "wpfHzFFaFdcy",
        "outputId": "05f23612-ef5d-4184-9aa9-9ab419707295",
        "colab": {
          "base_uri": "https://localhost:8080/",
          "height": 564
        }
      },
      "execution_count": 291,
      "outputs": [
        {
          "output_type": "display_data",
          "data": {
            "text/plain": [
              "<Figure size 1000x600 with 1 Axes>"
            ],
            "image/png": "[encoded data removed]"
          },
          "metadata": {}
        }
      ]
    },
    {
      "cell_type": "code",
      "source": [
        "import sqlite3\n",
        "import pandas as pd\n",
        "\n",
        "# Reconnect to the database\n",
        "conn = sqlite3.connect('chinook.db')\n",
        "cursor = conn.cursor()\n",
        "\n",
        "# Query to get total sales by employee with invoice-level details\n",
        "cursor.execute('''\n",
        "    SELECT e.FirstName || ' ' || e.LastName AS Employee, i.InvoiceId, i.Total\n",
        "    FROM employees e\n",
        "    JOIN invoices i ON e.EmployeeID = EmployeeID\n",
        "    ORDER BY e.EmployeeID;\n",
        "''')\n",
        "\n",
        "# Fetch the data\n",
        "sales_details = cursor.fetchall()\n",
        "\n",
        "# Convert to a pandas DataFrame to check the data\n",
        "df_sales_details = pd.DataFrame(sales_details, columns=['Employee', 'InvoiceId', 'InvoiceTotal'])\n",
        "\n",
        "# Check the first few rows to see the data\n",
        "print(df_sales_details.head())\n",
        "\n",
        "# Close the connection\n",
        "conn.close()\n"
      ],
      "metadata": {
        "id": "kQQUF34zIroZ",
        "outputId": "66791a4c-919b-41cb-d956-f124f2c4c8ea",
        "colab": {
          "base_uri": "https://localhost:8080/"
        }
      },
      "execution_count": 292,
      "outputs": [
        {
          "output_type": "stream",
          "name": "stdout",
          "text": [
            "       Employee  InvoiceId  InvoiceTotal\n",
            "0  Andrew Adams          1          1.98\n",
            "1  Andrew Adams          2          3.96\n",
            "2  Andrew Adams          3          5.94\n",
            "3  Andrew Adams          4          8.91\n",
            "4  Andrew Adams          5         13.86\n"
          ]
        }
      ]
    },
    {
      "cell_type": "code",
      "source": [
        "# Reconnect to the database\n",
        "conn = sqlite3.connect('chinook.db')\n",
        "cursor = conn.cursor()\n",
        "\n",
        "# Query to get total sales by employee\n",
        "cursor.execute('''\n",
        "    SELECT e.FirstName || ' ' || e.LastName AS Employee, SUM(i.Total) AS TotalSales\n",
        "    FROM employees e\n",
        "    JOIN invoices i ON e.EmployeeID = EmployeeID\n",
        "    GROUP BY e.EmployeeID\n",
        "    ORDER BY TotalSales DESC\n",
        "    LIMIT 5;\n",
        "''')\n",
        "\n",
        "# Fetch the results\n",
        "employee_sales = cursor.fetchall()\n",
        "\n",
        "# Convert to a pandas DataFrame for easy plotting\n",
        "df_employee_sales = pd.DataFrame(employee_sales, columns=['Employee', 'TotalSales'])\n",
        "\n",
        "# Check the DataFrame to see if the totals are correct\n",
        "print(df_employee_sales)\n",
        "\n",
        "# Plotting\n",
        "import matplotlib.pyplot as plt\n",
        "plt.figure(figsize=(10, 6))\n",
        "plt.barh(df_employee_sales['Employee'], df_employee_sales['TotalSales'], color='lightcoral')\n",
        "plt.xlabel('Total Sales ($)')\n",
        "plt.ylabel('Employee')\n",
        "plt.title('Top 5 Employees by Total Sales')\n",
        "plt.gca().invert_yaxis()  # To display the highest salesperson at the top\n",
        "plt.show()\n",
        "\n",
        "# Close the connection\n",
        "conn.close()\n"
      ],
      "metadata": {
        "id": "407_jRvRIuTm",
        "outputId": "f23ee40e-33c4-4756-891c-998172b1a0d9",
        "colab": {
          "base_uri": "https://localhost:8080/",
          "height": 671
        }
      },
      "execution_count": 293,
      "outputs": [
        {
          "output_type": "stream",
          "name": "stdout",
          "text": [
            "        Employee  TotalSales\n",
            "0   Andrew Adams      2328.6\n",
            "1  Nancy Edwards      2328.6\n",
            "2   Jane Peacock      2328.6\n",
            "3  Margaret Park      2328.6\n",
            "4  Steve Johnson      2328.6\n"
          ]
        },
        {
          "output_type": "display_data",
          "data": {
            "text/plain": [
              "<Figure size 1000x600 with 1 Axes>"
            ],
            "image/png": "[encoded data removed]"
          },
          "metadata": {}
        }
      ]
    },
    {
      "cell_type": "code",
      "source": [
        "import sqlite3\n",
        "\n",
        "# Reconnect to the database\n",
        "conn = sqlite3.connect('chinook.db')\n",
        "cursor = conn.cursor()\n",
        "\n",
        "# Query to get total sales by employee\n",
        "cursor.execute('''\n",
        "    SELECT\n",
        "        e.FirstName || ' ' || e.LastName AS sales_rep,\n",
        "        e.BirthDate AS birth_date,\n",
        "        e.HireDate AS hire_date,\n",
        "        e.City AS work_location,\n",
        "        ROUND(SUM(i.Total), 2) AS total_sales\n",
        "    FROM invoices i  -- Correct table name 'invoices'\n",
        "    INNER JOIN customers c ON c.CustomerId = i.CustomerId  -- Correct table name 'customers'\n",
        "    INNER JOIN employees e ON e.EmployeeId = c.SupportRepId  -- Correct table name 'employees'\n",
        "    GROUP BY sales_rep\n",
        "    ORDER BY total_sales DESC;\n",
        "''')\n",
        "\n",
        "# Fetch the results\n",
        "employee_sales = cursor.fetchall()\n",
        "\n",
        "# Convert to a pandas DataFrame for easy inspection\n",
        "import pandas as pd\n",
        "df_employee_sales = pd.DataFrame(employee_sales, columns=['Sales Rep', 'Birth Date', 'Hire Date', 'Work Location', 'Total Sales'])\n",
        "\n",
        "# Display the data for inspection\n",
        "print(df_employee_sales)\n",
        "\n",
        "# Close the connection\n",
        "conn.close()\n",
        "\n"
      ],
      "metadata": {
        "id": "y_g8dmqNKXbo",
        "outputId": "7d6a7235-1abe-44f2-8040-6b8d3ab8efae",
        "colab": {
          "base_uri": "https://localhost:8080/"
        }
      },
      "execution_count": 294,
      "outputs": [
        {
          "output_type": "stream",
          "name": "stdout",
          "text": [
            "       Sales Rep           Birth Date            Hire Date Work Location  \\\n",
            "0   Jane Peacock  1973-08-29 00:00:00  2002-04-01 00:00:00       Calgary   \n",
            "1  Margaret Park  1947-09-19 00:00:00  2003-05-03 00:00:00       Calgary   \n",
            "2  Steve Johnson  1965-03-03 00:00:00  2003-10-17 00:00:00       Calgary   \n",
            "\n",
            "   Total Sales  \n",
            "0       833.04  \n",
            "1       775.40  \n",
            "2       720.16  \n"
          ]
        }
      ]
    },
    {
      "cell_type": "code",
      "source": [
        "# Reconnect to the database\n",
        "conn = sqlite3.connect('chinook.db')\n",
        "cursor = conn.cursor()\n",
        "\n",
        "# Query to get genre popularity by media type\n",
        "cursor.execute('''\n",
        "    SELECT g.Name AS Genre, mt.Name AS MediaType, COUNT(t.TrackId) AS TrackCount\n",
        "    FROM genres g\n",
        "    JOIN tracks t ON g.GenreId = t.GenreId\n",
        "    JOIN media_types mt ON t.MediaTypeId = mt.MediaTypeId\n",
        "    GROUP BY g.GenreId, mt.MediaTypeId\n",
        "    ORDER BY TrackCount DESC;\n",
        "''')\n",
        "genre_media_popularity = cursor.fetchall()\n",
        "\n",
        "# Convert to pandas DataFrame\n",
        "df_genre_media = pd.DataFrame(genre_media_popularity, columns=['Genre', 'MediaType', 'TrackCount'])\n",
        "\n",
        "# Pivot the DataFrame to create a suitable format for stacked bar chart\n",
        "df_pivot = df_genre_media.pivot(index='Genre', columns='MediaType', values='TrackCount').fillna(0)\n",
        "\n",
        "# Plotting\n",
        "df_pivot.plot(kind='bar', stacked=True, figsize=(14, 8), colormap='Set2')\n",
        "plt.title('Genre Popularity by Media Type')\n",
        "plt.xlabel('Genre')\n",
        "plt.ylabel('Track Count')\n",
        "plt.xticks(rotation=45, ha='right')\n",
        "plt.legend(title='Media Type')\n",
        "plt.show()\n",
        "\n",
        "# Close the connection\n",
        "conn.close()\n"
      ],
      "metadata": {
        "id": "lrj6HlIBFih3",
        "outputId": "e565b219-ec3f-4bf7-e139-7c5a5838d439",
        "colab": {
          "base_uri": "https://localhost:8080/",
          "height": 806
        }
      },
      "execution_count": 295,
      "outputs": [
        {
          "output_type": "display_data",
          "data": {
            "text/plain": [
              "<Figure size 1400x800 with 1 Axes>"
            ],
            "image/png": "[encoded data removed]"
          },
          "metadata": {}
        }
      ]
    },
    {
      "cell_type": "code",
      "source": [],
      "metadata": {
        "id": "fjwF6bzKFmVp"
      },
      "execution_count": 295,
      "outputs": []
    },
    {
      "cell_type": "markdown",
      "source": [
        "## EXTRA CREDIT:\n",
        "* Use a CTE\n",
        "* Use a query that joins two or more tables.\n",
        "* Make a model to see if you can predict something\n",
        "* Come up with something else cool to do with your data\n"
      ],
      "metadata": {
        "id": "H6QrBn3n58mU"
      }
    },
    {
      "cell_type": "code",
      "source": [
        "import sqlite3 as db\n",
        "\n",
        "# Connect to the database (replace with your actual database)\n",
        "conn = sqlite3.connect('your_database.db')\n",
        "cursor = conn.cursor()\n",
        "\n",
        "# Use a CTE to calculate total spending by each customer\n",
        "try:\n",
        "    cursor.execute('''\n",
        "        WITH TotalSpending AS (\n",
        "            SELECT c.CustomerId, c.FirstName || ' ' || c.LastName AS Customer, SUM(i.Total) AS TotalSpent\n",
        "            FROM customers c\n",
        "            JOIN invoices i ON c.CustomerId = i.CustomerId\n",
        "            GROUP BY c.CustomerId\n",
        "        )\n",
        "        SELECT * FROM TotalSpending;\n",
        "    ''')\n",
        "\n",
        "    # Fetch and print results\n",
        "    rows = cursor.fetchall()\n",
        "    for row in rows:\n",
        "        print(row)\n",
        "\n",
        "except Exception as e:\n",
        "    print(\"An error occurred:\", e)\n",
        "\n",
        "finally:\n",
        "    # Close the connection after you're done\n",
        "    conn.close()\n"
      ],
      "metadata": {
        "id": "rEZQv6vn59IP",
        "outputId": "aad91d4e-b166-4ef4-c911-39e535d70b63",
        "colab": {
          "base_uri": "https://localhost:8080/"
        }
      },
      "execution_count": 296,
      "outputs": [
        {
          "output_type": "stream",
          "name": "stdout",
          "text": [
            "An error occurred: no such table: customers\n"
          ]
        }
      ]
    },
    {
      "cell_type": "code",
      "source": [
        "# Reconnect to the database\n",
        "conn = sqlite3.connect('chinook.db')\n",
        "cursor = conn.cursor()\n",
        "\n",
        "# Query to get total sales by employee, customer, and sales employee\n",
        "cursor.execute('''\n",
        "    SELECT e.FirstName || ' ' || e.LastName AS Employee, c.FirstName || ' ' || c.LastName AS Customer,\n",
        "           SUM(i.Total) AS TotalSales\n",
        "    FROM invoices i\n",
        "    JOIN customers c ON i.CustomerId = c.CustomerId\n",
        "    JOIN employees e ON EmployeeId = e.EmployeeId\n",
        "    GROUP BY e.EmployeeId, c.CustomerId\n",
        "    ORDER BY TotalSales DESC\n",
        "    LIMIT 10;\n",
        "''')\n",
        "sales_data = cursor.fetchall()\n",
        "\n",
        "# Display results\n",
        "for record in sales_data:\n",
        "    print(f\"Employee: {record[0]}, Customer: {record[1]}, Total Sales: ${record[2]:.2f}\")\n",
        "\n",
        "# Close the connection\n",
        "conn.close()\n"
      ],
      "metadata": {
        "id": "tro1sdvFGU4L",
        "outputId": "1b5ebcfc-11ae-4ad0-cd1a-c17c54d72682",
        "colab": {
          "base_uri": "https://localhost:8080/"
        }
      },
      "execution_count": 297,
      "outputs": [
        {
          "output_type": "stream",
          "name": "stdout",
          "text": [
            "Employee: Andrew Adams, Customer: Helena Holý, Total Sales: $49.62\n",
            "Employee: Nancy Edwards, Customer: Helena Holý, Total Sales: $49.62\n",
            "Employee: Jane Peacock, Customer: Helena Holý, Total Sales: $49.62\n",
            "Employee: Margaret Park, Customer: Helena Holý, Total Sales: $49.62\n",
            "Employee: Steve Johnson, Customer: Helena Holý, Total Sales: $49.62\n",
            "Employee: Michael Mitchell, Customer: Helena Holý, Total Sales: $49.62\n",
            "Employee: Robert King, Customer: Helena Holý, Total Sales: $49.62\n",
            "Employee: Laura Callahan, Customer: Helena Holý, Total Sales: $49.62\n",
            "Employee: Andrew Adams, Customer: Richard Cunningham, Total Sales: $47.62\n",
            "Employee: Nancy Edwards, Customer: Richard Cunningham, Total Sales: $47.62\n"
          ]
        }
      ]
    },
    {
      "cell_type": "code",
      "source": [
        "pip install scikit-learn pandas matplotlib\n"
      ],
      "metadata": {
        "id": "RQYXZOcOHQDT",
        "outputId": "d6bd2e9b-d1cd-4a0d-df05-b707f23a578e",
        "colab": {
          "base_uri": "https://localhost:8080/"
        }
      },
      "execution_count": 298,
      "outputs": [
        {
          "output_type": "stream",
          "name": "stdout",
          "text": [
            "Requirement already satisfied: scikit-learn in /usr/local/lib/python3.11/dist-packages (1.6.1)\n",
            "Requirement already satisfied: pandas in /usr/local/lib/python3.11/dist-packages (2.2.2)\n",
            "Requirement already satisfied: matplotlib in /usr/local/lib/python3.11/dist-packages (3.10.0)\n",
            "Requirement already satisfied: numpy>=1.19.5 in /usr/local/lib/python3.11/dist-packages (from scikit-learn) (2.0.2)\n",
            "Requirement already satisfied: scipy>=1.6.0 in /usr/local/lib/python3.11/dist-packages (from scikit-learn) (1.14.1)\n",
            "Requirement already satisfied: joblib>=1.2.0 in /usr/local/lib/python3.11/dist-packages (from scikit-learn) (1.4.2)\n",
            "Requirement already satisfied: threadpoolctl>=3.1.0 in /usr/local/lib/python3.11/dist-packages (from scikit-learn) (3.6.0)\n",
            "Requirement already satisfied: python-dateutil>=2.8.2 in /usr/local/lib/python3.11/dist-packages (from pandas) (2.8.2)\n",
            "Requirement already satisfied: pytz>=2020.1 in /usr/local/lib/python3.11/dist-packages (from pandas) (2025.2)\n",
            "Requirement already satisfied: tzdata>=2022.7 in /usr/local/lib/python3.11/dist-packages (from pandas) (2025.2)\n",
            "Requirement already satisfied: contourpy>=1.0.1 in /usr/local/lib/python3.11/dist-packages (from matplotlib) (1.3.1)\n",
            "Requirement already satisfied: cycler>=0.10 in /usr/local/lib/python3.11/dist-packages (from matplotlib) (0.12.1)\n",
            "Requirement already satisfied: fonttools>=4.22.0 in /usr/local/lib/python3.11/dist-packages (from matplotlib) (4.56.0)\n",
            "Requirement already satisfied: kiwisolver>=1.3.1 in /usr/local/lib/python3.11/dist-packages (from matplotlib) (1.4.8)\n",
            "Requirement already satisfied: packaging>=20.0 in /usr/local/lib/python3.11/dist-packages (from matplotlib) (24.2)\n",
            "Requirement already satisfied: pillow>=8 in /usr/local/lib/python3.11/dist-packages (from matplotlib) (11.1.0)\n",
            "Requirement already satisfied: pyparsing>=2.3.1 in /usr/local/lib/python3.11/dist-packages (from matplotlib) (3.2.3)\n",
            "Requirement already satisfied: six>=1.5 in /usr/local/lib/python3.11/dist-packages (from python-dateutil>=2.8.2->pandas) (1.17.0)\n"
          ]
        }
      ]
    },
    {
      "cell_type": "code",
      "source": [
        "import sqlite3\n",
        "import pandas as pd\n",
        "from sklearn.model_selection import train_test_split\n",
        "from sklearn.linear_model import LinearRegression\n",
        "from sklearn.metrics import mean_squared_error\n",
        "import matplotlib.pyplot as plt\n",
        "\n",
        "# Connect to the database\n",
        "conn = sqlite3.connect('chinook.db')\n",
        "cursor = conn.cursor()\n",
        "\n",
        "# Query to get customer spending data\n",
        "cursor.execute('''\n",
        "    SELECT c.CustomerId, COUNT(i.InvoiceId) AS InvoiceCount, SUM(ii.Quantity) AS TotalItems, SUM(i.Total) AS TotalSpending\n",
        "    FROM customers c\n",
        "    JOIN invoices i ON c.CustomerId = i.CustomerId\n",
        "    JOIN invoice_items ii ON i.InvoiceId = ii.InvoiceId\n",
        "    GROUP BY c.CustomerId;\n",
        "''')\n",
        "\n",
        "# Fetch data into a pandas DataFrame\n",
        "data = cursor.fetchall()\n",
        "df = pd.DataFrame(data, columns=['CustomerId', 'InvoiceCount', 'TotalItems', 'TotalSpending'])\n",
        "\n",
        "# Close the connection\n",
        "conn.close()\n",
        "\n",
        "# Split the data into features (X) and target (y)\n",
        "X = df[['InvoiceCount', 'TotalItems']]  # Features\n",
        "y = df['TotalSpending']  # Target\n",
        "\n",
        "# Split into training and testing sets\n",
        "X_train, X_test, y_train, y_test = train_test_split(X, y, test_size=0.2, random_state=42)\n",
        "\n",
        "# Train a linear regression model\n",
        "model = LinearRegression()\n",
        "model.fit(X_train, y_train)\n",
        "\n",
        "# Make predictions\n",
        "y_pred = model.predict(X_test)\n",
        "\n",
        "# Evaluate the model\n",
        "mse = mean_squared_error(y_test, y_pred)\n",
        "print(f\"Mean Squared Error: {mse}\")\n",
        "\n",
        "# Plot the predictions vs actual\n",
        "plt.scatter(y_test, y_pred)\n",
        "plt.xlabel(\"Actual Spending\")\n",
        "plt.ylabel(\"Predicted Spending\")\n",
        "plt.title(\"Actual vs Predicted Spending\")\n",
        "plt.show()\n"
      ],
      "metadata": {
        "id": "wNymDvOGHSVf",
        "outputId": "1464f26c-f456-4d37-c32f-36fcc093f205",
        "colab": {
          "base_uri": "https://localhost:8080/",
          "height": 490
        }
      },
      "execution_count": 299,
      "outputs": [
        {
          "output_type": "stream",
          "name": "stdout",
          "text": [
            "Mean Squared Error: 4228.02063642092\n"
          ]
        },
        {
          "output_type": "display_data",
          "data": {
            "text/plain": [
              "<Figure size 640x480 with 1 Axes>"
            ],
            "image/png": "[encoded data removed]"
          },
          "metadata": {}
        }
      ]
    },
    {
      "cell_type": "code",
      "source": [
        "# Reconnect to the database\n",
        "conn = sqlite3.connect('chinook.db')\n",
        "cursor = conn.cursor()\n",
        "\n",
        "# Query to extract hour from invoice date and total sales per hour\n",
        "cursor.execute('''\n",
        "    SELECT strftime('%H', i.InvoiceDate) AS Hour, SUM(i.Total) AS Sales\n",
        "    FROM invoices i\n",
        "    GROUP BY Hour\n",
        "    ORDER BY Hour;\n",
        "''')\n",
        "sales_by_hour = cursor.fetchall()\n",
        "\n",
        "# Convert to pandas DataFrame\n",
        "df_sales_hour = pd.DataFrame(sales_by_hour, columns=['Hour', 'Sales'])\n",
        "\n",
        "# Plotting\n",
        "plt.figure(figsize=(10, 6))\n",
        "plt.plot(df_sales_hour['Hour'], df_sales_hour['Sales'], marker='o', color='b', linestyle='-', markersize=6)\n",
        "plt.xlabel('Hour of Day')\n",
        "plt.ylabel('Total Sales ($)')\n",
        "plt.title('Sales Performance by Hour of Day')\n",
        "plt.grid(True)\n",
        "plt.show()\n",
        "\n",
        "# Close the connection\n",
        "conn.close()\n"
      ],
      "metadata": {
        "id": "dj7yKuGqIGdX",
        "outputId": "c3d4e845-cfd8-4b53-b86b-313a5dd8e48e",
        "colab": {
          "base_uri": "https://localhost:8080/",
          "height": 564
        }
      },
      "execution_count": 300,
      "outputs": [
        {
          "output_type": "display_data",
          "data": {
            "text/plain": [
              "<Figure size 1000x600 with 1 Axes>"
            ],
            "image/png": "[encoded data removed]"
          },
          "metadata": {}
        }
      ]
    }
  ]
}